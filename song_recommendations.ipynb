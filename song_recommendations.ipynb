{
  "cells": [
    {
      "cell_type": "markdown",
      "metadata": {
        "id": "AY1SrF7jnS8u"
      },
      "source": [
        "# Perform exploratory analysis of music data and create a model song recommendations"
      ]
    },
    {
      "cell_type": "markdown",
      "metadata": {
        "id": "Wo7BmbkhyEtc"
      },
      "source": [
        "https://www.kaggle.com/datasets/travisdaws/spotify-tracks-acoustic-features/data"
      ]
    },
    {
      "cell_type": "code",
      "execution_count": 1,
      "metadata": {
        "id": "DUGruHk9l3sj"
      },
      "outputs": [],
      "source": [
        "import pandas as pd\n",
        "import matplotlib.pyplot as plt"
      ]
    },
    {
      "cell_type": "markdown",
      "metadata": {
        "id": "pyIazPmOF9Xf"
      },
      "source": [
        "## Data Analysis"
      ]
    },
    {
      "cell_type": "code",
      "execution_count": 2,
      "metadata": {
        "colab": {
          "base_uri": "https://localhost:8080/",
          "height": 514
        },
        "id": "20-XipOpmhSO",
        "outputId": "aa07d645-2a5e-46e3-afc0-611618271b10"
      },
      "outputs": [
        {
          "output_type": "execute_result",
          "data": {
            "text/plain": [
              "   Unnamed: 0                    uris           names  artist_names  \\\n",
              "0           0  4xhsWYTOGcal8zt0J161CU     Lovin On Me   Jack Harlow   \n",
              "1           1  0cVyQfDyRnMJ0V3rjjdlU3   Lil Boo Thang  Paul Russell   \n",
              "2           2  31MNHKE86sEXzIglbGQ6mu  Got Me Started   Troye Sivan   \n",
              "3           3  4OMJGnvZfDvsePyCwRGO7X         Houdini      Dua Lipa   \n",
              "4           4  5aIVCx5tnk0ntmdiinnYvw           Water          Tyla   \n",
              "\n",
              "              artist_uris  artist_pop  \\\n",
              "0  2LIk90788K0zvyj2JJVwkJ          81   \n",
              "1  4zoRNhOhsGX3w8yBAnFSQ8          64   \n",
              "2  3WGpXCj9YhhfX11TToZcXP          78   \n",
              "3  6M2wZ9GZgrQXHCFfjv46we          85   \n",
              "4  3SozjO3Lat463tQICI9LcE          73   \n",
              "\n",
              "                                       artist_genres  \\\n",
              "0  ['deep underground hip hop', 'kentucky hip hop...   \n",
              "1                                      ['indie r&b']   \n",
              "2             ['australian pop', 'pop', 'viral pop']   \n",
              "3                     ['dance pop', 'pop', 'uk pop']   \n",
              "4                                                 []   \n",
              "\n",
              "                         albums  track_pop  danceability  ...  liveness  \\\n",
              "0                   Lovin On Me         88         0.943  ...    0.0937   \n",
              "1                 Lil Boo Thang         86         0.850  ...    0.3200   \n",
              "2  Something To Give Each Other         83         0.777  ...    0.3180   \n",
              "3                       Houdini         90         0.744  ...    0.0947   \n",
              "4                         Water         96         0.673  ...    0.1370   \n",
              "\n",
              "   valences   tempos           types                     ids  \\\n",
              "0     0.606  104.983  audio_features  4xhsWYTOGcal8zt0J161CU   \n",
              "1     0.915  114.481  audio_features  0cVyQfDyRnMJ0V3rjjdlU3   \n",
              "2     0.582  127.002  audio_features  31MNHKE86sEXzIglbGQ6mu   \n",
              "3     0.866  116.985  audio_features  4OMJGnvZfDvsePyCwRGO7X   \n",
              "4     0.519  117.187  audio_features  5aIVCx5tnk0ntmdiinnYvw   \n",
              "\n",
              "                                         track_hrefs  \\\n",
              "0  https://api.spotify.com/v1/tracks/4xhsWYTOGcal...   \n",
              "1  https://api.spotify.com/v1/tracks/0cVyQfDyRnMJ...   \n",
              "2  https://api.spotify.com/v1/tracks/31MNHKE86sEX...   \n",
              "3  https://api.spotify.com/v1/tracks/4OMJGnvZfDvs...   \n",
              "4  https://api.spotify.com/v1/tracks/5aIVCx5tnk0n...   \n",
              "\n",
              "                                       analysis_urls  durations_ms  \\\n",
              "0  https://api.spotify.com/v1/audio-analysis/4xhs...        138411   \n",
              "1  https://api.spotify.com/v1/audio-analysis/0cVy...        114234   \n",
              "2  https://api.spotify.com/v1/audio-analysis/31MN...        198448   \n",
              "3  https://api.spotify.com/v1/audio-analysis/4OMJ...        185918   \n",
              "4  https://api.spotify.com/v1/audio-analysis/5aIV...        200256   \n",
              "\n",
              "   time_signatures       playlist_name  \n",
              "0                4  Hot Hits Australia  \n",
              "1                4  Hot Hits Australia  \n",
              "2                4  Hot Hits Australia  \n",
              "3                4  Hot Hits Australia  \n",
              "4                4  Hot Hits Australia  \n",
              "\n",
              "[5 rows x 27 columns]"
            ],
            "text/html": [
              "\n",
              "  <div id=\"df-109535be-5149-424b-9d95-8ff283ab5fdc\" class=\"colab-df-container\">\n",
              "    <div>\n",
              "<style scoped>\n",
              "    .dataframe tbody tr th:only-of-type {\n",
              "        vertical-align: middle;\n",
              "    }\n",
              "\n",
              "    .dataframe tbody tr th {\n",
              "        vertical-align: top;\n",
              "    }\n",
              "\n",
              "    .dataframe thead th {\n",
              "        text-align: right;\n",
              "    }\n",
              "</style>\n",
              "<table border=\"1\" class=\"dataframe\">\n",
              "  <thead>\n",
              "    <tr style=\"text-align: right;\">\n",
              "      <th></th>\n",
              "      <th>Unnamed: 0</th>\n",
              "      <th>uris</th>\n",
              "      <th>names</th>\n",
              "      <th>artist_names</th>\n",
              "      <th>artist_uris</th>\n",
              "      <th>artist_pop</th>\n",
              "      <th>artist_genres</th>\n",
              "      <th>albums</th>\n",
              "      <th>track_pop</th>\n",
              "      <th>danceability</th>\n",
              "      <th>...</th>\n",
              "      <th>liveness</th>\n",
              "      <th>valences</th>\n",
              "      <th>tempos</th>\n",
              "      <th>types</th>\n",
              "      <th>ids</th>\n",
              "      <th>track_hrefs</th>\n",
              "      <th>analysis_urls</th>\n",
              "      <th>durations_ms</th>\n",
              "      <th>time_signatures</th>\n",
              "      <th>playlist_name</th>\n",
              "    </tr>\n",
              "  </thead>\n",
              "  <tbody>\n",
              "    <tr>\n",
              "      <th>0</th>\n",
              "      <td>0</td>\n",
              "      <td>4xhsWYTOGcal8zt0J161CU</td>\n",
              "      <td>Lovin On Me</td>\n",
              "      <td>Jack Harlow</td>\n",
              "      <td>2LIk90788K0zvyj2JJVwkJ</td>\n",
              "      <td>81</td>\n",
              "      <td>['deep underground hip hop', 'kentucky hip hop...</td>\n",
              "      <td>Lovin On Me</td>\n",
              "      <td>88</td>\n",
              "      <td>0.943</td>\n",
              "      <td>...</td>\n",
              "      <td>0.0937</td>\n",
              "      <td>0.606</td>\n",
              "      <td>104.983</td>\n",
              "      <td>audio_features</td>\n",
              "      <td>4xhsWYTOGcal8zt0J161CU</td>\n",
              "      <td>https://api.spotify.com/v1/tracks/4xhsWYTOGcal...</td>\n",
              "      <td>https://api.spotify.com/v1/audio-analysis/4xhs...</td>\n",
              "      <td>138411</td>\n",
              "      <td>4</td>\n",
              "      <td>Hot Hits Australia</td>\n",
              "    </tr>\n",
              "    <tr>\n",
              "      <th>1</th>\n",
              "      <td>1</td>\n",
              "      <td>0cVyQfDyRnMJ0V3rjjdlU3</td>\n",
              "      <td>Lil Boo Thang</td>\n",
              "      <td>Paul Russell</td>\n",
              "      <td>4zoRNhOhsGX3w8yBAnFSQ8</td>\n",
              "      <td>64</td>\n",
              "      <td>['indie r&amp;b']</td>\n",
              "      <td>Lil Boo Thang</td>\n",
              "      <td>86</td>\n",
              "      <td>0.850</td>\n",
              "      <td>...</td>\n",
              "      <td>0.3200</td>\n",
              "      <td>0.915</td>\n",
              "      <td>114.481</td>\n",
              "      <td>audio_features</td>\n",
              "      <td>0cVyQfDyRnMJ0V3rjjdlU3</td>\n",
              "      <td>https://api.spotify.com/v1/tracks/0cVyQfDyRnMJ...</td>\n",
              "      <td>https://api.spotify.com/v1/audio-analysis/0cVy...</td>\n",
              "      <td>114234</td>\n",
              "      <td>4</td>\n",
              "      <td>Hot Hits Australia</td>\n",
              "    </tr>\n",
              "    <tr>\n",
              "      <th>2</th>\n",
              "      <td>2</td>\n",
              "      <td>31MNHKE86sEXzIglbGQ6mu</td>\n",
              "      <td>Got Me Started</td>\n",
              "      <td>Troye Sivan</td>\n",
              "      <td>3WGpXCj9YhhfX11TToZcXP</td>\n",
              "      <td>78</td>\n",
              "      <td>['australian pop', 'pop', 'viral pop']</td>\n",
              "      <td>Something To Give Each Other</td>\n",
              "      <td>83</td>\n",
              "      <td>0.777</td>\n",
              "      <td>...</td>\n",
              "      <td>0.3180</td>\n",
              "      <td>0.582</td>\n",
              "      <td>127.002</td>\n",
              "      <td>audio_features</td>\n",
              "      <td>31MNHKE86sEXzIglbGQ6mu</td>\n",
              "      <td>https://api.spotify.com/v1/tracks/31MNHKE86sEX...</td>\n",
              "      <td>https://api.spotify.com/v1/audio-analysis/31MN...</td>\n",
              "      <td>198448</td>\n",
              "      <td>4</td>\n",
              "      <td>Hot Hits Australia</td>\n",
              "    </tr>\n",
              "    <tr>\n",
              "      <th>3</th>\n",
              "      <td>3</td>\n",
              "      <td>4OMJGnvZfDvsePyCwRGO7X</td>\n",
              "      <td>Houdini</td>\n",
              "      <td>Dua Lipa</td>\n",
              "      <td>6M2wZ9GZgrQXHCFfjv46we</td>\n",
              "      <td>85</td>\n",
              "      <td>['dance pop', 'pop', 'uk pop']</td>\n",
              "      <td>Houdini</td>\n",
              "      <td>90</td>\n",
              "      <td>0.744</td>\n",
              "      <td>...</td>\n",
              "      <td>0.0947</td>\n",
              "      <td>0.866</td>\n",
              "      <td>116.985</td>\n",
              "      <td>audio_features</td>\n",
              "      <td>4OMJGnvZfDvsePyCwRGO7X</td>\n",
              "      <td>https://api.spotify.com/v1/tracks/4OMJGnvZfDvs...</td>\n",
              "      <td>https://api.spotify.com/v1/audio-analysis/4OMJ...</td>\n",
              "      <td>185918</td>\n",
              "      <td>4</td>\n",
              "      <td>Hot Hits Australia</td>\n",
              "    </tr>\n",
              "    <tr>\n",
              "      <th>4</th>\n",
              "      <td>4</td>\n",
              "      <td>5aIVCx5tnk0ntmdiinnYvw</td>\n",
              "      <td>Water</td>\n",
              "      <td>Tyla</td>\n",
              "      <td>3SozjO3Lat463tQICI9LcE</td>\n",
              "      <td>73</td>\n",
              "      <td>[]</td>\n",
              "      <td>Water</td>\n",
              "      <td>96</td>\n",
              "      <td>0.673</td>\n",
              "      <td>...</td>\n",
              "      <td>0.1370</td>\n",
              "      <td>0.519</td>\n",
              "      <td>117.187</td>\n",
              "      <td>audio_features</td>\n",
              "      <td>5aIVCx5tnk0ntmdiinnYvw</td>\n",
              "      <td>https://api.spotify.com/v1/tracks/5aIVCx5tnk0n...</td>\n",
              "      <td>https://api.spotify.com/v1/audio-analysis/5aIV...</td>\n",
              "      <td>200256</td>\n",
              "      <td>4</td>\n",
              "      <td>Hot Hits Australia</td>\n",
              "    </tr>\n",
              "  </tbody>\n",
              "</table>\n",
              "<p>5 rows × 27 columns</p>\n",
              "</div>\n",
              "    <div class=\"colab-df-buttons\">\n",
              "\n",
              "  <div class=\"colab-df-container\">\n",
              "    <button class=\"colab-df-convert\" onclick=\"convertToInteractive('df-109535be-5149-424b-9d95-8ff283ab5fdc')\"\n",
              "            title=\"Convert this dataframe to an interactive table.\"\n",
              "            style=\"display:none;\">\n",
              "\n",
              "  <svg xmlns=\"http://www.w3.org/2000/svg\" height=\"24px\" viewBox=\"0 -960 960 960\">\n",
              "    <path d=\"M120-120v-720h720v720H120Zm60-500h600v-160H180v160Zm220 220h160v-160H400v160Zm0 220h160v-160H400v160ZM180-400h160v-160H180v160Zm440 0h160v-160H620v160ZM180-180h160v-160H180v160Zm440 0h160v-160H620v160Z\"/>\n",
              "  </svg>\n",
              "    </button>\n",
              "\n",
              "  <style>\n",
              "    .colab-df-container {\n",
              "      display:flex;\n",
              "      gap: 12px;\n",
              "    }\n",
              "\n",
              "    .colab-df-convert {\n",
              "      background-color: #E8F0FE;\n",
              "      border: none;\n",
              "      border-radius: 50%;\n",
              "      cursor: pointer;\n",
              "      display: none;\n",
              "      fill: #1967D2;\n",
              "      height: 32px;\n",
              "      padding: 0 0 0 0;\n",
              "      width: 32px;\n",
              "    }\n",
              "\n",
              "    .colab-df-convert:hover {\n",
              "      background-color: #E2EBFA;\n",
              "      box-shadow: 0px 1px 2px rgba(60, 64, 67, 0.3), 0px 1px 3px 1px rgba(60, 64, 67, 0.15);\n",
              "      fill: #174EA6;\n",
              "    }\n",
              "\n",
              "    .colab-df-buttons div {\n",
              "      margin-bottom: 4px;\n",
              "    }\n",
              "\n",
              "    [theme=dark] .colab-df-convert {\n",
              "      background-color: #3B4455;\n",
              "      fill: #D2E3FC;\n",
              "    }\n",
              "\n",
              "    [theme=dark] .colab-df-convert:hover {\n",
              "      background-color: #434B5C;\n",
              "      box-shadow: 0px 1px 3px 1px rgba(0, 0, 0, 0.15);\n",
              "      filter: drop-shadow(0px 1px 2px rgba(0, 0, 0, 0.3));\n",
              "      fill: #FFFFFF;\n",
              "    }\n",
              "  </style>\n",
              "\n",
              "    <script>\n",
              "      const buttonEl =\n",
              "        document.querySelector('#df-109535be-5149-424b-9d95-8ff283ab5fdc button.colab-df-convert');\n",
              "      buttonEl.style.display =\n",
              "        google.colab.kernel.accessAllowed ? 'block' : 'none';\n",
              "\n",
              "      async function convertToInteractive(key) {\n",
              "        const element = document.querySelector('#df-109535be-5149-424b-9d95-8ff283ab5fdc');\n",
              "        const dataTable =\n",
              "          await google.colab.kernel.invokeFunction('convertToInteractive',\n",
              "                                                    [key], {});\n",
              "        if (!dataTable) return;\n",
              "\n",
              "        const docLinkHtml = 'Like what you see? Visit the ' +\n",
              "          '<a target=\"_blank\" href=https://colab.research.google.com/notebooks/data_table.ipynb>data table notebook</a>'\n",
              "          + ' to learn more about interactive tables.';\n",
              "        element.innerHTML = '';\n",
              "        dataTable['output_type'] = 'display_data';\n",
              "        await google.colab.output.renderOutput(dataTable, element);\n",
              "        const docLink = document.createElement('div');\n",
              "        docLink.innerHTML = docLinkHtml;\n",
              "        element.appendChild(docLink);\n",
              "      }\n",
              "    </script>\n",
              "  </div>\n",
              "\n",
              "\n",
              "<div id=\"df-2711c4d5-7dd4-4001-a13b-b4110ce60973\">\n",
              "  <button class=\"colab-df-quickchart\" onclick=\"quickchart('df-2711c4d5-7dd4-4001-a13b-b4110ce60973')\"\n",
              "            title=\"Suggest charts\"\n",
              "            style=\"display:none;\">\n",
              "\n",
              "<svg xmlns=\"http://www.w3.org/2000/svg\" height=\"24px\"viewBox=\"0 0 24 24\"\n",
              "     width=\"24px\">\n",
              "    <g>\n",
              "        <path d=\"M19 3H5c-1.1 0-2 .9-2 2v14c0 1.1.9 2 2 2h14c1.1 0 2-.9 2-2V5c0-1.1-.9-2-2-2zM9 17H7v-7h2v7zm4 0h-2V7h2v10zm4 0h-2v-4h2v4z\"/>\n",
              "    </g>\n",
              "</svg>\n",
              "  </button>\n",
              "\n",
              "<style>\n",
              "  .colab-df-quickchart {\n",
              "      --bg-color: #E8F0FE;\n",
              "      --fill-color: #1967D2;\n",
              "      --hover-bg-color: #E2EBFA;\n",
              "      --hover-fill-color: #174EA6;\n",
              "      --disabled-fill-color: #AAA;\n",
              "      --disabled-bg-color: #DDD;\n",
              "  }\n",
              "\n",
              "  [theme=dark] .colab-df-quickchart {\n",
              "      --bg-color: #3B4455;\n",
              "      --fill-color: #D2E3FC;\n",
              "      --hover-bg-color: #434B5C;\n",
              "      --hover-fill-color: #FFFFFF;\n",
              "      --disabled-bg-color: #3B4455;\n",
              "      --disabled-fill-color: #666;\n",
              "  }\n",
              "\n",
              "  .colab-df-quickchart {\n",
              "    background-color: var(--bg-color);\n",
              "    border: none;\n",
              "    border-radius: 50%;\n",
              "    cursor: pointer;\n",
              "    display: none;\n",
              "    fill: var(--fill-color);\n",
              "    height: 32px;\n",
              "    padding: 0;\n",
              "    width: 32px;\n",
              "  }\n",
              "\n",
              "  .colab-df-quickchart:hover {\n",
              "    background-color: var(--hover-bg-color);\n",
              "    box-shadow: 0 1px 2px rgba(60, 64, 67, 0.3), 0 1px 3px 1px rgba(60, 64, 67, 0.15);\n",
              "    fill: var(--button-hover-fill-color);\n",
              "  }\n",
              "\n",
              "  .colab-df-quickchart-complete:disabled,\n",
              "  .colab-df-quickchart-complete:disabled:hover {\n",
              "    background-color: var(--disabled-bg-color);\n",
              "    fill: var(--disabled-fill-color);\n",
              "    box-shadow: none;\n",
              "  }\n",
              "\n",
              "  .colab-df-spinner {\n",
              "    border: 2px solid var(--fill-color);\n",
              "    border-color: transparent;\n",
              "    border-bottom-color: var(--fill-color);\n",
              "    animation:\n",
              "      spin 1s steps(1) infinite;\n",
              "  }\n",
              "\n",
              "  @keyframes spin {\n",
              "    0% {\n",
              "      border-color: transparent;\n",
              "      border-bottom-color: var(--fill-color);\n",
              "      border-left-color: var(--fill-color);\n",
              "    }\n",
              "    20% {\n",
              "      border-color: transparent;\n",
              "      border-left-color: var(--fill-color);\n",
              "      border-top-color: var(--fill-color);\n",
              "    }\n",
              "    30% {\n",
              "      border-color: transparent;\n",
              "      border-left-color: var(--fill-color);\n",
              "      border-top-color: var(--fill-color);\n",
              "      border-right-color: var(--fill-color);\n",
              "    }\n",
              "    40% {\n",
              "      border-color: transparent;\n",
              "      border-right-color: var(--fill-color);\n",
              "      border-top-color: var(--fill-color);\n",
              "    }\n",
              "    60% {\n",
              "      border-color: transparent;\n",
              "      border-right-color: var(--fill-color);\n",
              "    }\n",
              "    80% {\n",
              "      border-color: transparent;\n",
              "      border-right-color: var(--fill-color);\n",
              "      border-bottom-color: var(--fill-color);\n",
              "    }\n",
              "    90% {\n",
              "      border-color: transparent;\n",
              "      border-bottom-color: var(--fill-color);\n",
              "    }\n",
              "  }\n",
              "</style>\n",
              "\n",
              "  <script>\n",
              "    async function quickchart(key) {\n",
              "      const quickchartButtonEl =\n",
              "        document.querySelector('#' + key + ' button');\n",
              "      quickchartButtonEl.disabled = true;  // To prevent multiple clicks.\n",
              "      quickchartButtonEl.classList.add('colab-df-spinner');\n",
              "      try {\n",
              "        const charts = await google.colab.kernel.invokeFunction(\n",
              "            'suggestCharts', [key], {});\n",
              "      } catch (error) {\n",
              "        console.error('Error during call to suggestCharts:', error);\n",
              "      }\n",
              "      quickchartButtonEl.classList.remove('colab-df-spinner');\n",
              "      quickchartButtonEl.classList.add('colab-df-quickchart-complete');\n",
              "    }\n",
              "    (() => {\n",
              "      let quickchartButtonEl =\n",
              "        document.querySelector('#df-2711c4d5-7dd4-4001-a13b-b4110ce60973 button');\n",
              "      quickchartButtonEl.style.display =\n",
              "        google.colab.kernel.accessAllowed ? 'block' : 'none';\n",
              "    })();\n",
              "  </script>\n",
              "</div>\n",
              "\n",
              "    </div>\n",
              "  </div>\n"
            ],
            "application/vnd.google.colaboratory.intrinsic+json": {
              "type": "dataframe",
              "variable_name": "df"
            }
          },
          "metadata": {},
          "execution_count": 2
        }
      ],
      "source": [
        "df = pd.read_csv('tracks.csv')\n",
        "df.head()"
      ]
    },
    {
      "cell_type": "code",
      "execution_count": 3,
      "metadata": {
        "colab": {
          "base_uri": "https://localhost:8080/"
        },
        "id": "ZQR8KjmMmpA6",
        "outputId": "4d408cbf-53ff-4288-c715-f18bd8f5e58f"
      },
      "outputs": [
        {
          "output_type": "stream",
          "name": "stdout",
          "text": [
            "<class 'pandas.core.frame.DataFrame'>\n",
            "RangeIndex: 7994 entries, 0 to 7993\n",
            "Data columns (total 27 columns):\n",
            " #   Column            Non-Null Count  Dtype  \n",
            "---  ------            --------------  -----  \n",
            " 0   Unnamed: 0        7994 non-null   int64  \n",
            " 1   uris              7994 non-null   object \n",
            " 2   names             7994 non-null   object \n",
            " 3   artist_names      7994 non-null   object \n",
            " 4   artist_uris       7994 non-null   object \n",
            " 5   artist_pop        7994 non-null   int64  \n",
            " 6   artist_genres     7994 non-null   object \n",
            " 7   albums            7994 non-null   object \n",
            " 8   track_pop         7994 non-null   int64  \n",
            " 9   danceability      7994 non-null   float64\n",
            " 10  energy            7994 non-null   float64\n",
            " 11  keys              7994 non-null   int64  \n",
            " 12  loudness          7994 non-null   float64\n",
            " 13  modes             7994 non-null   int64  \n",
            " 14  speechiness       7994 non-null   float64\n",
            " 15  acousticness      7994 non-null   float64\n",
            " 16  instrumentalness  7994 non-null   float64\n",
            " 17  liveness          7994 non-null   float64\n",
            " 18  valences          7994 non-null   float64\n",
            " 19  tempos            7994 non-null   float64\n",
            " 20  types             7994 non-null   object \n",
            " 21  ids               7994 non-null   object \n",
            " 22  track_hrefs       7994 non-null   object \n",
            " 23  analysis_urls     7994 non-null   object \n",
            " 24  durations_ms      7994 non-null   int64  \n",
            " 25  time_signatures   7994 non-null   int64  \n",
            " 26  playlist_name     7994 non-null   object \n",
            "dtypes: float64(9), int64(7), object(11)\n",
            "memory usage: 1.6+ MB\n"
          ]
        }
      ],
      "source": [
        "df.info()"
      ]
    },
    {
      "cell_type": "markdown",
      "metadata": {
        "id": "7sIvaxM2GGlt"
      },
      "source": [
        "## Dropping unneeded features"
      ]
    },
    {
      "cell_type": "code",
      "execution_count": 4,
      "metadata": {
        "colab": {
          "base_uri": "https://localhost:8080/"
        },
        "id": "hVuOK8dSnUo1",
        "outputId": "f941cef9-929d-41f5-e0d1-23e1ebac0061"
      },
      "outputs": [
        {
          "output_type": "execute_result",
          "data": {
            "text/plain": [
              "Index(['names', 'artist_names', 'artist_pop', 'artist_genres', 'albums',\n",
              "       'track_pop', 'danceability', 'energy', 'loudness', 'speechiness',\n",
              "       'acousticness', 'instrumentalness', 'liveness', 'valences', 'tempos',\n",
              "       'types', 'durations_ms', 'time_signatures', 'playlist_name'],\n",
              "      dtype='object')"
            ]
          },
          "metadata": {},
          "execution_count": 4
        }
      ],
      "source": [
        "df_need = df.drop(['Unnamed: 0', 'uris', 'artist_uris', 'analysis_urls', 'track_hrefs', 'ids','keys','modes'], axis = 1)\n",
        "df_need.columns"
      ]
    },
    {
      "cell_type": "code",
      "execution_count": 5,
      "metadata": {
        "colab": {
          "base_uri": "https://localhost:8080/"
        },
        "id": "dNDE3cqapdhv",
        "outputId": "80ed1b0b-7f67-4552-d60f-4561d9216c04"
      },
      "outputs": [
        {
          "output_type": "stream",
          "name": "stdout",
          "text": [
            "<class 'pandas.core.frame.DataFrame'>\n",
            "RangeIndex: 7994 entries, 0 to 7993\n",
            "Data columns (total 19 columns):\n",
            " #   Column            Non-Null Count  Dtype  \n",
            "---  ------            --------------  -----  \n",
            " 0   names             7994 non-null   object \n",
            " 1   artist_names      7994 non-null   object \n",
            " 2   artist_pop        7994 non-null   int64  \n",
            " 3   artist_genres     7994 non-null   object \n",
            " 4   albums            7994 non-null   object \n",
            " 5   track_pop         7994 non-null   int64  \n",
            " 6   danceability      7994 non-null   float64\n",
            " 7   energy            7994 non-null   float64\n",
            " 8   loudness          7994 non-null   float64\n",
            " 9   speechiness       7994 non-null   float64\n",
            " 10  acousticness      7994 non-null   float64\n",
            " 11  instrumentalness  7994 non-null   float64\n",
            " 12  liveness          7994 non-null   float64\n",
            " 13  valences          7994 non-null   float64\n",
            " 14  tempos            7994 non-null   float64\n",
            " 15  types             7994 non-null   object \n",
            " 16  durations_ms      7994 non-null   int64  \n",
            " 17  time_signatures   7994 non-null   int64  \n",
            " 18  playlist_name     7994 non-null   object \n",
            "dtypes: float64(9), int64(4), object(6)\n",
            "memory usage: 1.2+ MB\n"
          ]
        }
      ],
      "source": [
        "df_need.info()"
      ]
    },
    {
      "cell_type": "markdown",
      "metadata": {
        "id": "9aRFOp8pGL0U"
      },
      "source": [
        "## Making input to recommend songs"
      ]
    },
    {
      "cell_type": "code",
      "execution_count": 6,
      "metadata": {
        "colab": {
          "base_uri": "https://localhost:8080/",
          "height": 459
        },
        "id": "IbGovNz-pp0U",
        "outputId": "b44ddf6d-01a5-4984-c478-4f96b04e123b"
      },
      "outputs": [
        {
          "output_type": "execute_result",
          "data": {
            "text/plain": [
              "0                Lovin On Me - Jack Harlow\n",
              "1             Lil Boo Thang - Paul Russell\n",
              "2             Got Me Started - Troye Sivan\n",
              "3                       Houdini - Dua Lipa\n",
              "4                             Water - Tyla\n",
              "                       ...                \n",
              "7989        Once You Love Someone - Tep No\n",
              "7990                       Goodbye - SAINT\n",
              "7991    I Think I’m Over You - Win and Woo\n",
              "7992               Lonely Dulcimer - Dusky\n",
              "7993                   Sleepless - Eloi El\n",
              "Name: song, Length: 7994, dtype: object"
            ],
            "text/html": [
              "<div>\n",
              "<style scoped>\n",
              "    .dataframe tbody tr th:only-of-type {\n",
              "        vertical-align: middle;\n",
              "    }\n",
              "\n",
              "    .dataframe tbody tr th {\n",
              "        vertical-align: top;\n",
              "    }\n",
              "\n",
              "    .dataframe thead th {\n",
              "        text-align: right;\n",
              "    }\n",
              "</style>\n",
              "<table border=\"1\" class=\"dataframe\">\n",
              "  <thead>\n",
              "    <tr style=\"text-align: right;\">\n",
              "      <th></th>\n",
              "      <th>song</th>\n",
              "    </tr>\n",
              "  </thead>\n",
              "  <tbody>\n",
              "    <tr>\n",
              "      <th>0</th>\n",
              "      <td>Lovin On Me - Jack Harlow</td>\n",
              "    </tr>\n",
              "    <tr>\n",
              "      <th>1</th>\n",
              "      <td>Lil Boo Thang - Paul Russell</td>\n",
              "    </tr>\n",
              "    <tr>\n",
              "      <th>2</th>\n",
              "      <td>Got Me Started - Troye Sivan</td>\n",
              "    </tr>\n",
              "    <tr>\n",
              "      <th>3</th>\n",
              "      <td>Houdini - Dua Lipa</td>\n",
              "    </tr>\n",
              "    <tr>\n",
              "      <th>4</th>\n",
              "      <td>Water - Tyla</td>\n",
              "    </tr>\n",
              "    <tr>\n",
              "      <th>...</th>\n",
              "      <td>...</td>\n",
              "    </tr>\n",
              "    <tr>\n",
              "      <th>7989</th>\n",
              "      <td>Once You Love Someone - Tep No</td>\n",
              "    </tr>\n",
              "    <tr>\n",
              "      <th>7990</th>\n",
              "      <td>Goodbye - SAINT</td>\n",
              "    </tr>\n",
              "    <tr>\n",
              "      <th>7991</th>\n",
              "      <td>I Think I’m Over You - Win and Woo</td>\n",
              "    </tr>\n",
              "    <tr>\n",
              "      <th>7992</th>\n",
              "      <td>Lonely Dulcimer - Dusky</td>\n",
              "    </tr>\n",
              "    <tr>\n",
              "      <th>7993</th>\n",
              "      <td>Sleepless - Eloi El</td>\n",
              "    </tr>\n",
              "  </tbody>\n",
              "</table>\n",
              "<p>7994 rows × 1 columns</p>\n",
              "</div><br><label><b>dtype:</b> object</label>"
            ]
          },
          "metadata": {},
          "execution_count": 6
        }
      ],
      "source": [
        "df_need['song'] = df_need['names'] + ' - ' + df_need['artist_names']\n",
        "df_need['song']"
      ]
    },
    {
      "cell_type": "markdown",
      "metadata": {
        "id": "hKtzMc8sGUjF"
      },
      "source": [
        "## Dropping unneeded columns"
      ]
    },
    {
      "cell_type": "code",
      "execution_count": 7,
      "metadata": {
        "colab": {
          "base_uri": "https://localhost:8080/"
        },
        "id": "wYByY4DIp2ke",
        "outputId": "9719924c-b127-4343-d88a-bb97cf831f4f"
      },
      "outputs": [
        {
          "output_type": "execute_result",
          "data": {
            "text/plain": [
              "Index(['artist_pop', 'artist_genres', 'albums', 'track_pop', 'danceability',\n",
              "       'energy', 'loudness', 'speechiness', 'acousticness', 'instrumentalness',\n",
              "       'liveness', 'valences', 'tempos', 'types', 'durations_ms',\n",
              "       'time_signatures', 'playlist_name', 'song'],\n",
              "      dtype='object')"
            ]
          },
          "metadata": {},
          "execution_count": 7
        }
      ],
      "source": [
        "df_need.drop(['names', 'artist_names'], axis = 1, inplace=True)\n",
        "df_need.columns"
      ]
    },
    {
      "cell_type": "markdown",
      "metadata": {
        "id": "ObEVPP7OGXOM"
      },
      "source": [
        "## Checking Artist Genres"
      ]
    },
    {
      "cell_type": "code",
      "execution_count": 8,
      "metadata": {
        "colab": {
          "base_uri": "https://localhost:8080/",
          "height": 459
        },
        "id": "i0U-1kRnrdIl",
        "outputId": "bb8d13c7-fa3a-414c-d6d2-f839df6cee54"
      },
      "outputs": [
        {
          "output_type": "execute_result",
          "data": {
            "text/plain": [
              "0       ['deep underground hip hop', 'kentucky hip hop...\n",
              "1                                           ['indie r&b']\n",
              "2                  ['australian pop', 'pop', 'viral pop']\n",
              "3                          ['dance pop', 'pop', 'uk pop']\n",
              "4                                                      []\n",
              "                              ...                        \n",
              "7989    ['deep tropical house', 'indie poptimism', 'tr...\n",
              "7990                                                   []\n",
              "7991                   ['deep tropical house', 'pop edm']\n",
              "7992             ['deep house', 'future garage', 'house']\n",
              "7993                    ['chill house', 'tropical house']\n",
              "Name: artist_genres, Length: 7994, dtype: object"
            ],
            "text/html": [
              "<div>\n",
              "<style scoped>\n",
              "    .dataframe tbody tr th:only-of-type {\n",
              "        vertical-align: middle;\n",
              "    }\n",
              "\n",
              "    .dataframe tbody tr th {\n",
              "        vertical-align: top;\n",
              "    }\n",
              "\n",
              "    .dataframe thead th {\n",
              "        text-align: right;\n",
              "    }\n",
              "</style>\n",
              "<table border=\"1\" class=\"dataframe\">\n",
              "  <thead>\n",
              "    <tr style=\"text-align: right;\">\n",
              "      <th></th>\n",
              "      <th>artist_genres</th>\n",
              "    </tr>\n",
              "  </thead>\n",
              "  <tbody>\n",
              "    <tr>\n",
              "      <th>0</th>\n",
              "      <td>['deep underground hip hop', 'kentucky hip hop...</td>\n",
              "    </tr>\n",
              "    <tr>\n",
              "      <th>1</th>\n",
              "      <td>['indie r&amp;b']</td>\n",
              "    </tr>\n",
              "    <tr>\n",
              "      <th>2</th>\n",
              "      <td>['australian pop', 'pop', 'viral pop']</td>\n",
              "    </tr>\n",
              "    <tr>\n",
              "      <th>3</th>\n",
              "      <td>['dance pop', 'pop', 'uk pop']</td>\n",
              "    </tr>\n",
              "    <tr>\n",
              "      <th>4</th>\n",
              "      <td>[]</td>\n",
              "    </tr>\n",
              "    <tr>\n",
              "      <th>...</th>\n",
              "      <td>...</td>\n",
              "    </tr>\n",
              "    <tr>\n",
              "      <th>7989</th>\n",
              "      <td>['deep tropical house', 'indie poptimism', 'tr...</td>\n",
              "    </tr>\n",
              "    <tr>\n",
              "      <th>7990</th>\n",
              "      <td>[]</td>\n",
              "    </tr>\n",
              "    <tr>\n",
              "      <th>7991</th>\n",
              "      <td>['deep tropical house', 'pop edm']</td>\n",
              "    </tr>\n",
              "    <tr>\n",
              "      <th>7992</th>\n",
              "      <td>['deep house', 'future garage', 'house']</td>\n",
              "    </tr>\n",
              "    <tr>\n",
              "      <th>7993</th>\n",
              "      <td>['chill house', 'tropical house']</td>\n",
              "    </tr>\n",
              "  </tbody>\n",
              "</table>\n",
              "<p>7994 rows × 1 columns</p>\n",
              "</div><br><label><b>dtype:</b> object</label>"
            ]
          },
          "metadata": {},
          "execution_count": 8
        }
      ],
      "source": [
        "df_need['artist_genres']"
      ]
    },
    {
      "cell_type": "code",
      "execution_count": 9,
      "metadata": {
        "colab": {
          "base_uri": "https://localhost:8080/",
          "height": 459
        },
        "id": "rRtad7lXtgke",
        "outputId": "99e7c1a6-d58f-4540-ca14-2a6b8663c6f0"
      },
      "outputs": [
        {
          "output_type": "execute_result",
          "data": {
            "text/plain": [
              "0       deep underground hip hop, kentucky hip hop, po...\n",
              "1                                               indie r&b\n",
              "2                          australian pop, pop, viral pop\n",
              "3                                  dance pop, pop, uk pop\n",
              "4                                                        \n",
              "                              ...                        \n",
              "7989    deep tropical house, indie poptimism, tropical...\n",
              "7990                                                     \n",
              "7991                         deep tropical house, pop edm\n",
              "7992                     deep house, future garage, house\n",
              "7993                          chill house, tropical house\n",
              "Name: artist_genres, Length: 7994, dtype: object"
            ],
            "text/html": [
              "<div>\n",
              "<style scoped>\n",
              "    .dataframe tbody tr th:only-of-type {\n",
              "        vertical-align: middle;\n",
              "    }\n",
              "\n",
              "    .dataframe tbody tr th {\n",
              "        vertical-align: top;\n",
              "    }\n",
              "\n",
              "    .dataframe thead th {\n",
              "        text-align: right;\n",
              "    }\n",
              "</style>\n",
              "<table border=\"1\" class=\"dataframe\">\n",
              "  <thead>\n",
              "    <tr style=\"text-align: right;\">\n",
              "      <th></th>\n",
              "      <th>artist_genres</th>\n",
              "    </tr>\n",
              "  </thead>\n",
              "  <tbody>\n",
              "    <tr>\n",
              "      <th>0</th>\n",
              "      <td>deep underground hip hop, kentucky hip hop, po...</td>\n",
              "    </tr>\n",
              "    <tr>\n",
              "      <th>1</th>\n",
              "      <td>indie r&amp;b</td>\n",
              "    </tr>\n",
              "    <tr>\n",
              "      <th>2</th>\n",
              "      <td>australian pop, pop, viral pop</td>\n",
              "    </tr>\n",
              "    <tr>\n",
              "      <th>3</th>\n",
              "      <td>dance pop, pop, uk pop</td>\n",
              "    </tr>\n",
              "    <tr>\n",
              "      <th>4</th>\n",
              "      <td></td>\n",
              "    </tr>\n",
              "    <tr>\n",
              "      <th>...</th>\n",
              "      <td>...</td>\n",
              "    </tr>\n",
              "    <tr>\n",
              "      <th>7989</th>\n",
              "      <td>deep tropical house, indie poptimism, tropical...</td>\n",
              "    </tr>\n",
              "    <tr>\n",
              "      <th>7990</th>\n",
              "      <td></td>\n",
              "    </tr>\n",
              "    <tr>\n",
              "      <th>7991</th>\n",
              "      <td>deep tropical house, pop edm</td>\n",
              "    </tr>\n",
              "    <tr>\n",
              "      <th>7992</th>\n",
              "      <td>deep house, future garage, house</td>\n",
              "    </tr>\n",
              "    <tr>\n",
              "      <th>7993</th>\n",
              "      <td>chill house, tropical house</td>\n",
              "    </tr>\n",
              "  </tbody>\n",
              "</table>\n",
              "<p>7994 rows × 1 columns</p>\n",
              "</div><br><label><b>dtype:</b> object</label>"
            ]
          },
          "metadata": {},
          "execution_count": 9
        }
      ],
      "source": [
        "df_need['artist_genres'] = df_need['artist_genres'].str.replace(r\"[\\[\\]']\", '', regex=True)\n",
        "df_need['artist_genres']"
      ]
    },
    {
      "cell_type": "markdown",
      "metadata": {
        "id": "fsHFq6wpwdwm"
      },
      "source": [
        "## Checking how many I have different genres"
      ]
    },
    {
      "cell_type": "code",
      "execution_count": 10,
      "metadata": {
        "colab": {
          "base_uri": "https://localhost:8080/"
        },
        "id": "MkSMV82Ot0_v",
        "outputId": "b42d4c4d-885d-46d6-8641-845cc840e5d3"
      },
      "outputs": [
        {
          "output_type": "execute_result",
          "data": {
            "text/plain": [
              "1411"
            ]
          },
          "metadata": {},
          "execution_count": 10
        }
      ],
      "source": [
        "lista = set(sum(df_need['artist_genres'].str.split(','), []))\n",
        "lista = list(lista)\n",
        "\n",
        "len(lista)"
      ]
    },
    {
      "cell_type": "markdown",
      "metadata": {
        "id": "dBfNNcK9Gtfb"
      },
      "source": [
        "## Checking DataFrame after some changes"
      ]
    },
    {
      "cell_type": "code",
      "execution_count": 11,
      "metadata": {
        "colab": {
          "base_uri": "https://localhost:8080/",
          "height": 206
        },
        "id": "OaDNufj8wkB5",
        "outputId": "23a7aa84-7ba6-4f2d-ef19-e4130dd8fe8c"
      },
      "outputs": [
        {
          "output_type": "execute_result",
          "data": {
            "text/plain": [
              "   artist_pop                                      artist_genres  \\\n",
              "0          81  deep underground hip hop, kentucky hip hop, po...   \n",
              "1          64                                          indie r&b   \n",
              "2          78                     australian pop, pop, viral pop   \n",
              "3          85                             dance pop, pop, uk pop   \n",
              "4          73                                                      \n",
              "\n",
              "                         albums  track_pop  danceability  energy  loudness  \\\n",
              "0                   Lovin On Me         88         0.943   0.558    -4.911   \n",
              "1                 Lil Boo Thang         86         0.850   0.699    -3.292   \n",
              "2  Something To Give Each Other         83         0.777   0.686    -6.498   \n",
              "3                       Houdini         90         0.744   0.789    -4.876   \n",
              "4                         Water         96         0.673   0.722    -3.495   \n",
              "\n",
              "   speechiness  acousticness  instrumentalness  liveness  valences   tempos  \\\n",
              "0       0.0568        0.0026          0.000002    0.0937     0.606  104.983   \n",
              "1       0.0776        0.1520          0.000000    0.3200     0.915  114.481   \n",
              "2       0.0308        0.2230          0.001480    0.3180     0.582  127.002   \n",
              "3       0.0590        0.0036          0.001440    0.0947     0.866  116.985   \n",
              "4       0.0755        0.0856          0.000000    0.1370     0.519  117.187   \n",
              "\n",
              "            types  durations_ms  time_signatures       playlist_name  \\\n",
              "0  audio_features        138411                4  Hot Hits Australia   \n",
              "1  audio_features        114234                4  Hot Hits Australia   \n",
              "2  audio_features        198448                4  Hot Hits Australia   \n",
              "3  audio_features        185918                4  Hot Hits Australia   \n",
              "4  audio_features        200256                4  Hot Hits Australia   \n",
              "\n",
              "                           song  \n",
              "0     Lovin On Me - Jack Harlow  \n",
              "1  Lil Boo Thang - Paul Russell  \n",
              "2  Got Me Started - Troye Sivan  \n",
              "3            Houdini - Dua Lipa  \n",
              "4                  Water - Tyla  "
            ],
            "text/html": [
              "\n",
              "  <div id=\"df-f36ab15b-76a4-4fea-bb9e-410600b00ab0\" class=\"colab-df-container\">\n",
              "    <div>\n",
              "<style scoped>\n",
              "    .dataframe tbody tr th:only-of-type {\n",
              "        vertical-align: middle;\n",
              "    }\n",
              "\n",
              "    .dataframe tbody tr th {\n",
              "        vertical-align: top;\n",
              "    }\n",
              "\n",
              "    .dataframe thead th {\n",
              "        text-align: right;\n",
              "    }\n",
              "</style>\n",
              "<table border=\"1\" class=\"dataframe\">\n",
              "  <thead>\n",
              "    <tr style=\"text-align: right;\">\n",
              "      <th></th>\n",
              "      <th>artist_pop</th>\n",
              "      <th>artist_genres</th>\n",
              "      <th>albums</th>\n",
              "      <th>track_pop</th>\n",
              "      <th>danceability</th>\n",
              "      <th>energy</th>\n",
              "      <th>loudness</th>\n",
              "      <th>speechiness</th>\n",
              "      <th>acousticness</th>\n",
              "      <th>instrumentalness</th>\n",
              "      <th>liveness</th>\n",
              "      <th>valences</th>\n",
              "      <th>tempos</th>\n",
              "      <th>types</th>\n",
              "      <th>durations_ms</th>\n",
              "      <th>time_signatures</th>\n",
              "      <th>playlist_name</th>\n",
              "      <th>song</th>\n",
              "    </tr>\n",
              "  </thead>\n",
              "  <tbody>\n",
              "    <tr>\n",
              "      <th>0</th>\n",
              "      <td>81</td>\n",
              "      <td>deep underground hip hop, kentucky hip hop, po...</td>\n",
              "      <td>Lovin On Me</td>\n",
              "      <td>88</td>\n",
              "      <td>0.943</td>\n",
              "      <td>0.558</td>\n",
              "      <td>-4.911</td>\n",
              "      <td>0.0568</td>\n",
              "      <td>0.0026</td>\n",
              "      <td>0.000002</td>\n",
              "      <td>0.0937</td>\n",
              "      <td>0.606</td>\n",
              "      <td>104.983</td>\n",
              "      <td>audio_features</td>\n",
              "      <td>138411</td>\n",
              "      <td>4</td>\n",
              "      <td>Hot Hits Australia</td>\n",
              "      <td>Lovin On Me - Jack Harlow</td>\n",
              "    </tr>\n",
              "    <tr>\n",
              "      <th>1</th>\n",
              "      <td>64</td>\n",
              "      <td>indie r&amp;b</td>\n",
              "      <td>Lil Boo Thang</td>\n",
              "      <td>86</td>\n",
              "      <td>0.850</td>\n",
              "      <td>0.699</td>\n",
              "      <td>-3.292</td>\n",
              "      <td>0.0776</td>\n",
              "      <td>0.1520</td>\n",
              "      <td>0.000000</td>\n",
              "      <td>0.3200</td>\n",
              "      <td>0.915</td>\n",
              "      <td>114.481</td>\n",
              "      <td>audio_features</td>\n",
              "      <td>114234</td>\n",
              "      <td>4</td>\n",
              "      <td>Hot Hits Australia</td>\n",
              "      <td>Lil Boo Thang - Paul Russell</td>\n",
              "    </tr>\n",
              "    <tr>\n",
              "      <th>2</th>\n",
              "      <td>78</td>\n",
              "      <td>australian pop, pop, viral pop</td>\n",
              "      <td>Something To Give Each Other</td>\n",
              "      <td>83</td>\n",
              "      <td>0.777</td>\n",
              "      <td>0.686</td>\n",
              "      <td>-6.498</td>\n",
              "      <td>0.0308</td>\n",
              "      <td>0.2230</td>\n",
              "      <td>0.001480</td>\n",
              "      <td>0.3180</td>\n",
              "      <td>0.582</td>\n",
              "      <td>127.002</td>\n",
              "      <td>audio_features</td>\n",
              "      <td>198448</td>\n",
              "      <td>4</td>\n",
              "      <td>Hot Hits Australia</td>\n",
              "      <td>Got Me Started - Troye Sivan</td>\n",
              "    </tr>\n",
              "    <tr>\n",
              "      <th>3</th>\n",
              "      <td>85</td>\n",
              "      <td>dance pop, pop, uk pop</td>\n",
              "      <td>Houdini</td>\n",
              "      <td>90</td>\n",
              "      <td>0.744</td>\n",
              "      <td>0.789</td>\n",
              "      <td>-4.876</td>\n",
              "      <td>0.0590</td>\n",
              "      <td>0.0036</td>\n",
              "      <td>0.001440</td>\n",
              "      <td>0.0947</td>\n",
              "      <td>0.866</td>\n",
              "      <td>116.985</td>\n",
              "      <td>audio_features</td>\n",
              "      <td>185918</td>\n",
              "      <td>4</td>\n",
              "      <td>Hot Hits Australia</td>\n",
              "      <td>Houdini - Dua Lipa</td>\n",
              "    </tr>\n",
              "    <tr>\n",
              "      <th>4</th>\n",
              "      <td>73</td>\n",
              "      <td></td>\n",
              "      <td>Water</td>\n",
              "      <td>96</td>\n",
              "      <td>0.673</td>\n",
              "      <td>0.722</td>\n",
              "      <td>-3.495</td>\n",
              "      <td>0.0755</td>\n",
              "      <td>0.0856</td>\n",
              "      <td>0.000000</td>\n",
              "      <td>0.1370</td>\n",
              "      <td>0.519</td>\n",
              "      <td>117.187</td>\n",
              "      <td>audio_features</td>\n",
              "      <td>200256</td>\n",
              "      <td>4</td>\n",
              "      <td>Hot Hits Australia</td>\n",
              "      <td>Water - Tyla</td>\n",
              "    </tr>\n",
              "  </tbody>\n",
              "</table>\n",
              "</div>\n",
              "    <div class=\"colab-df-buttons\">\n",
              "\n",
              "  <div class=\"colab-df-container\">\n",
              "    <button class=\"colab-df-convert\" onclick=\"convertToInteractive('df-f36ab15b-76a4-4fea-bb9e-410600b00ab0')\"\n",
              "            title=\"Convert this dataframe to an interactive table.\"\n",
              "            style=\"display:none;\">\n",
              "\n",
              "  <svg xmlns=\"http://www.w3.org/2000/svg\" height=\"24px\" viewBox=\"0 -960 960 960\">\n",
              "    <path d=\"M120-120v-720h720v720H120Zm60-500h600v-160H180v160Zm220 220h160v-160H400v160Zm0 220h160v-160H400v160ZM180-400h160v-160H180v160Zm440 0h160v-160H620v160ZM180-180h160v-160H180v160Zm440 0h160v-160H620v160Z\"/>\n",
              "  </svg>\n",
              "    </button>\n",
              "\n",
              "  <style>\n",
              "    .colab-df-container {\n",
              "      display:flex;\n",
              "      gap: 12px;\n",
              "    }\n",
              "\n",
              "    .colab-df-convert {\n",
              "      background-color: #E8F0FE;\n",
              "      border: none;\n",
              "      border-radius: 50%;\n",
              "      cursor: pointer;\n",
              "      display: none;\n",
              "      fill: #1967D2;\n",
              "      height: 32px;\n",
              "      padding: 0 0 0 0;\n",
              "      width: 32px;\n",
              "    }\n",
              "\n",
              "    .colab-df-convert:hover {\n",
              "      background-color: #E2EBFA;\n",
              "      box-shadow: 0px 1px 2px rgba(60, 64, 67, 0.3), 0px 1px 3px 1px rgba(60, 64, 67, 0.15);\n",
              "      fill: #174EA6;\n",
              "    }\n",
              "\n",
              "    .colab-df-buttons div {\n",
              "      margin-bottom: 4px;\n",
              "    }\n",
              "\n",
              "    [theme=dark] .colab-df-convert {\n",
              "      background-color: #3B4455;\n",
              "      fill: #D2E3FC;\n",
              "    }\n",
              "\n",
              "    [theme=dark] .colab-df-convert:hover {\n",
              "      background-color: #434B5C;\n",
              "      box-shadow: 0px 1px 3px 1px rgba(0, 0, 0, 0.15);\n",
              "      filter: drop-shadow(0px 1px 2px rgba(0, 0, 0, 0.3));\n",
              "      fill: #FFFFFF;\n",
              "    }\n",
              "  </style>\n",
              "\n",
              "    <script>\n",
              "      const buttonEl =\n",
              "        document.querySelector('#df-f36ab15b-76a4-4fea-bb9e-410600b00ab0 button.colab-df-convert');\n",
              "      buttonEl.style.display =\n",
              "        google.colab.kernel.accessAllowed ? 'block' : 'none';\n",
              "\n",
              "      async function convertToInteractive(key) {\n",
              "        const element = document.querySelector('#df-f36ab15b-76a4-4fea-bb9e-410600b00ab0');\n",
              "        const dataTable =\n",
              "          await google.colab.kernel.invokeFunction('convertToInteractive',\n",
              "                                                    [key], {});\n",
              "        if (!dataTable) return;\n",
              "\n",
              "        const docLinkHtml = 'Like what you see? Visit the ' +\n",
              "          '<a target=\"_blank\" href=https://colab.research.google.com/notebooks/data_table.ipynb>data table notebook</a>'\n",
              "          + ' to learn more about interactive tables.';\n",
              "        element.innerHTML = '';\n",
              "        dataTable['output_type'] = 'display_data';\n",
              "        await google.colab.output.renderOutput(dataTable, element);\n",
              "        const docLink = document.createElement('div');\n",
              "        docLink.innerHTML = docLinkHtml;\n",
              "        element.appendChild(docLink);\n",
              "      }\n",
              "    </script>\n",
              "  </div>\n",
              "\n",
              "\n",
              "<div id=\"df-3dc3ef1d-7ca5-4d06-81bf-4ddd4dadc7dd\">\n",
              "  <button class=\"colab-df-quickchart\" onclick=\"quickchart('df-3dc3ef1d-7ca5-4d06-81bf-4ddd4dadc7dd')\"\n",
              "            title=\"Suggest charts\"\n",
              "            style=\"display:none;\">\n",
              "\n",
              "<svg xmlns=\"http://www.w3.org/2000/svg\" height=\"24px\"viewBox=\"0 0 24 24\"\n",
              "     width=\"24px\">\n",
              "    <g>\n",
              "        <path d=\"M19 3H5c-1.1 0-2 .9-2 2v14c0 1.1.9 2 2 2h14c1.1 0 2-.9 2-2V5c0-1.1-.9-2-2-2zM9 17H7v-7h2v7zm4 0h-2V7h2v10zm4 0h-2v-4h2v4z\"/>\n",
              "    </g>\n",
              "</svg>\n",
              "  </button>\n",
              "\n",
              "<style>\n",
              "  .colab-df-quickchart {\n",
              "      --bg-color: #E8F0FE;\n",
              "      --fill-color: #1967D2;\n",
              "      --hover-bg-color: #E2EBFA;\n",
              "      --hover-fill-color: #174EA6;\n",
              "      --disabled-fill-color: #AAA;\n",
              "      --disabled-bg-color: #DDD;\n",
              "  }\n",
              "\n",
              "  [theme=dark] .colab-df-quickchart {\n",
              "      --bg-color: #3B4455;\n",
              "      --fill-color: #D2E3FC;\n",
              "      --hover-bg-color: #434B5C;\n",
              "      --hover-fill-color: #FFFFFF;\n",
              "      --disabled-bg-color: #3B4455;\n",
              "      --disabled-fill-color: #666;\n",
              "  }\n",
              "\n",
              "  .colab-df-quickchart {\n",
              "    background-color: var(--bg-color);\n",
              "    border: none;\n",
              "    border-radius: 50%;\n",
              "    cursor: pointer;\n",
              "    display: none;\n",
              "    fill: var(--fill-color);\n",
              "    height: 32px;\n",
              "    padding: 0;\n",
              "    width: 32px;\n",
              "  }\n",
              "\n",
              "  .colab-df-quickchart:hover {\n",
              "    background-color: var(--hover-bg-color);\n",
              "    box-shadow: 0 1px 2px rgba(60, 64, 67, 0.3), 0 1px 3px 1px rgba(60, 64, 67, 0.15);\n",
              "    fill: var(--button-hover-fill-color);\n",
              "  }\n",
              "\n",
              "  .colab-df-quickchart-complete:disabled,\n",
              "  .colab-df-quickchart-complete:disabled:hover {\n",
              "    background-color: var(--disabled-bg-color);\n",
              "    fill: var(--disabled-fill-color);\n",
              "    box-shadow: none;\n",
              "  }\n",
              "\n",
              "  .colab-df-spinner {\n",
              "    border: 2px solid var(--fill-color);\n",
              "    border-color: transparent;\n",
              "    border-bottom-color: var(--fill-color);\n",
              "    animation:\n",
              "      spin 1s steps(1) infinite;\n",
              "  }\n",
              "\n",
              "  @keyframes spin {\n",
              "    0% {\n",
              "      border-color: transparent;\n",
              "      border-bottom-color: var(--fill-color);\n",
              "      border-left-color: var(--fill-color);\n",
              "    }\n",
              "    20% {\n",
              "      border-color: transparent;\n",
              "      border-left-color: var(--fill-color);\n",
              "      border-top-color: var(--fill-color);\n",
              "    }\n",
              "    30% {\n",
              "      border-color: transparent;\n",
              "      border-left-color: var(--fill-color);\n",
              "      border-top-color: var(--fill-color);\n",
              "      border-right-color: var(--fill-color);\n",
              "    }\n",
              "    40% {\n",
              "      border-color: transparent;\n",
              "      border-right-color: var(--fill-color);\n",
              "      border-top-color: var(--fill-color);\n",
              "    }\n",
              "    60% {\n",
              "      border-color: transparent;\n",
              "      border-right-color: var(--fill-color);\n",
              "    }\n",
              "    80% {\n",
              "      border-color: transparent;\n",
              "      border-right-color: var(--fill-color);\n",
              "      border-bottom-color: var(--fill-color);\n",
              "    }\n",
              "    90% {\n",
              "      border-color: transparent;\n",
              "      border-bottom-color: var(--fill-color);\n",
              "    }\n",
              "  }\n",
              "</style>\n",
              "\n",
              "  <script>\n",
              "    async function quickchart(key) {\n",
              "      const quickchartButtonEl =\n",
              "        document.querySelector('#' + key + ' button');\n",
              "      quickchartButtonEl.disabled = true;  // To prevent multiple clicks.\n",
              "      quickchartButtonEl.classList.add('colab-df-spinner');\n",
              "      try {\n",
              "        const charts = await google.colab.kernel.invokeFunction(\n",
              "            'suggestCharts', [key], {});\n",
              "      } catch (error) {\n",
              "        console.error('Error during call to suggestCharts:', error);\n",
              "      }\n",
              "      quickchartButtonEl.classList.remove('colab-df-spinner');\n",
              "      quickchartButtonEl.classList.add('colab-df-quickchart-complete');\n",
              "    }\n",
              "    (() => {\n",
              "      let quickchartButtonEl =\n",
              "        document.querySelector('#df-3dc3ef1d-7ca5-4d06-81bf-4ddd4dadc7dd button');\n",
              "      quickchartButtonEl.style.display =\n",
              "        google.colab.kernel.accessAllowed ? 'block' : 'none';\n",
              "    })();\n",
              "  </script>\n",
              "</div>\n",
              "\n",
              "    </div>\n",
              "  </div>\n"
            ],
            "application/vnd.google.colaboratory.intrinsic+json": {
              "type": "dataframe",
              "variable_name": "df_need",
              "summary": "{\n  \"name\": \"df_need\",\n  \"rows\": 7994,\n  \"fields\": [\n    {\n      \"column\": \"artist_pop\",\n      \"properties\": {\n        \"dtype\": \"number\",\n        \"std\": 18,\n        \"min\": 0,\n        \"max\": 100,\n        \"num_unique_values\": 96,\n        \"samples\": [\n          56,\n          46,\n          33\n        ],\n        \"semantic_type\": \"\",\n        \"description\": \"\"\n      }\n    },\n    {\n      \"column\": \"artist_genres\",\n      \"properties\": {\n        \"dtype\": \"category\",\n        \"num_unique_values\": 1893,\n        \"samples\": [\n          \"uk reggae\",\n          \"album rock, classic rock, dance rock, new romantic, new wave, new wave pop, permanent wave, post-punk, rock, zolo\",\n          \"countrygaze\"\n        ],\n        \"semantic_type\": \"\",\n        \"description\": \"\"\n      }\n    },\n    {\n      \"column\": \"albums\",\n      \"properties\": {\n        \"dtype\": \"string\",\n        \"num_unique_values\": 6648,\n        \"samples\": [\n          \"Money & Done (Remix)\",\n          \"Prosper In Peace\",\n          \"Yeah Yeah - Single\"\n        ],\n        \"semantic_type\": \"\",\n        \"description\": \"\"\n      }\n    },\n    {\n      \"column\": \"track_pop\",\n      \"properties\": {\n        \"dtype\": \"number\",\n        \"std\": 19,\n        \"min\": 0,\n        \"max\": 100,\n        \"num_unique_values\": 101,\n        \"samples\": [\n          57,\n          26,\n          47\n        ],\n        \"semantic_type\": \"\",\n        \"description\": \"\"\n      }\n    },\n    {\n      \"column\": \"danceability\",\n      \"properties\": {\n        \"dtype\": \"number\",\n        \"std\": 0.194913447200525,\n        \"min\": 0.0565,\n        \"max\": 0.989,\n        \"num_unique_values\": 935,\n        \"samples\": [\n          0.118,\n          0.737,\n          0.715\n        ],\n        \"semantic_type\": \"\",\n        \"description\": \"\"\n      }\n    },\n    {\n      \"column\": \"energy\",\n      \"properties\": {\n        \"dtype\": \"number\",\n        \"std\": 0.25960734162235194,\n        \"min\": 6.2e-05,\n        \"max\": 0.997,\n        \"num_unique_values\": 1475,\n        \"samples\": [\n          0.00059,\n          0.31,\n          0.917\n        ],\n        \"semantic_type\": \"\",\n        \"description\": \"\"\n      }\n    },\n    {\n      \"column\": \"loudness\",\n      \"properties\": {\n        \"dtype\": \"number\",\n        \"std\": 8.642834113854175,\n        \"min\": -50.06,\n        \"max\": 1.508,\n        \"num_unique_values\": 5887,\n        \"samples\": [\n          -2.771,\n          -8.012,\n          -10.295\n        ],\n        \"semantic_type\": \"\",\n        \"description\": \"\"\n      }\n    },\n    {\n      \"column\": \"speechiness\",\n      \"properties\": {\n        \"dtype\": \"number\",\n        \"std\": 0.09268993326978987,\n        \"min\": 0.0227,\n        \"max\": 0.88,\n        \"num_unique_values\": 1124,\n        \"samples\": [\n          0.0806,\n          0.406,\n          0.028\n        ],\n        \"semantic_type\": \"\",\n        \"description\": \"\"\n      }\n    },\n    {\n      \"column\": \"acousticness\",\n      \"properties\": {\n        \"dtype\": \"number\",\n        \"std\": 0.33298716302212195,\n        \"min\": 1.95e-06,\n        \"max\": 0.996,\n        \"num_unique_values\": 2351,\n        \"samples\": [\n          0.000421,\n          0.0027,\n          0.89\n        ],\n        \"semantic_type\": \"\",\n        \"description\": \"\"\n      }\n    },\n    {\n      \"column\": \"instrumentalness\",\n      \"properties\": {\n        \"dtype\": \"number\",\n        \"std\": 0.3103450888395106,\n        \"min\": 0.0,\n        \"max\": 0.991,\n        \"num_unique_values\": 2675,\n        \"samples\": [\n          4.96e-06,\n          2.14e-05,\n          7.01e-05\n        ],\n        \"semantic_type\": \"\",\n        \"description\": \"\"\n      }\n    },\n    {\n      \"column\": \"liveness\",\n      \"properties\": {\n        \"dtype\": \"number\",\n        \"std\": 0.13355230558858425,\n        \"min\": 0.0154,\n        \"max\": 0.982,\n        \"num_unique_values\": 1237,\n        \"samples\": [\n          0.0694,\n          0.0872,\n          0.05\n        ],\n        \"semantic_type\": \"\",\n        \"description\": \"\"\n      }\n    },\n    {\n      \"column\": \"valences\",\n      \"properties\": {\n        \"dtype\": \"number\",\n        \"std\": 0.2483987539979447,\n        \"min\": 0.0,\n        \"max\": 0.989,\n        \"num_unique_values\": 1258,\n        \"samples\": [\n          0.363,\n          0.433,\n          0.732\n        ],\n        \"semantic_type\": \"\",\n        \"description\": \"\"\n      }\n    },\n    {\n      \"column\": \"tempos\",\n      \"properties\": {\n        \"dtype\": \"number\",\n        \"std\": 28.344774475926382,\n        \"min\": 31.237,\n        \"max\": 230.186,\n        \"num_unique_values\": 6878,\n        \"samples\": [\n          89.787,\n          84.715,\n          117.152\n        ],\n        \"semantic_type\": \"\",\n        \"description\": \"\"\n      }\n    },\n    {\n      \"column\": \"types\",\n      \"properties\": {\n        \"dtype\": \"category\",\n        \"num_unique_values\": 1,\n        \"samples\": [\n          \"audio_features\"\n        ],\n        \"semantic_type\": \"\",\n        \"description\": \"\"\n      }\n    },\n    {\n      \"column\": \"durations_ms\",\n      \"properties\": {\n        \"dtype\": \"number\",\n        \"std\": 69833,\n        \"min\": 50765,\n        \"max\": 812625,\n        \"num_unique_values\": 7091,\n        \"samples\": [\n          229643\n        ],\n        \"semantic_type\": \"\",\n        \"description\": \"\"\n      }\n    },\n    {\n      \"column\": \"time_signatures\",\n      \"properties\": {\n        \"dtype\": \"number\",\n        \"std\": 0,\n        \"min\": 1,\n        \"max\": 5,\n        \"num_unique_values\": 4,\n        \"samples\": [\n          1\n        ],\n        \"semantic_type\": \"\",\n        \"description\": \"\"\n      }\n    },\n    {\n      \"column\": \"playlist_name\",\n      \"properties\": {\n        \"dtype\": \"category\",\n        \"num_unique_values\": 111,\n        \"samples\": [\n          \"Lo-fi Playlist\"\n        ],\n        \"semantic_type\": \"\",\n        \"description\": \"\"\n      }\n    },\n    {\n      \"column\": \"song\",\n      \"properties\": {\n        \"dtype\": \"string\",\n        \"num_unique_values\": 7825,\n        \"samples\": [\n          \"Turn On The Lights again.. (feat. Future) - Fred again..\"\n        ],\n        \"semantic_type\": \"\",\n        \"description\": \"\"\n      }\n    }\n  ]\n}"
            }
          },
          "metadata": {},
          "execution_count": 11
        }
      ],
      "source": [
        "df_need.head()"
      ]
    },
    {
      "cell_type": "code",
      "execution_count": 12,
      "metadata": {
        "colab": {
          "base_uri": "https://localhost:8080/",
          "height": 490
        },
        "id": "acrOjZTY3o1c",
        "outputId": "39e9671e-0c31-483b-cfd1-a078e1ecec67"
      },
      "outputs": [
        {
          "output_type": "execute_result",
          "data": {
            "text/plain": [
              "playlist_name\n",
              "Sleep                  302\n",
              "Peaceful Piano         276\n",
              "Motivate               265\n",
              "New Music Friday       216\n",
              "Peaceful Meditation    200\n",
              "                      ... \n",
              "Happy Pop Hits          11\n",
              "Hot Hits USA            11\n",
              "Easy 90s                11\n",
              "Mega Hit Mix             7\n",
              "Hit Repeat               2\n",
              "Name: count, Length: 111, dtype: int64"
            ],
            "text/html": [
              "<div>\n",
              "<style scoped>\n",
              "    .dataframe tbody tr th:only-of-type {\n",
              "        vertical-align: middle;\n",
              "    }\n",
              "\n",
              "    .dataframe tbody tr th {\n",
              "        vertical-align: top;\n",
              "    }\n",
              "\n",
              "    .dataframe thead th {\n",
              "        text-align: right;\n",
              "    }\n",
              "</style>\n",
              "<table border=\"1\" class=\"dataframe\">\n",
              "  <thead>\n",
              "    <tr style=\"text-align: right;\">\n",
              "      <th></th>\n",
              "      <th>count</th>\n",
              "    </tr>\n",
              "    <tr>\n",
              "      <th>playlist_name</th>\n",
              "      <th></th>\n",
              "    </tr>\n",
              "  </thead>\n",
              "  <tbody>\n",
              "    <tr>\n",
              "      <th>Sleep</th>\n",
              "      <td>302</td>\n",
              "    </tr>\n",
              "    <tr>\n",
              "      <th>Peaceful Piano</th>\n",
              "      <td>276</td>\n",
              "    </tr>\n",
              "    <tr>\n",
              "      <th>Motivate</th>\n",
              "      <td>265</td>\n",
              "    </tr>\n",
              "    <tr>\n",
              "      <th>New Music Friday</th>\n",
              "      <td>216</td>\n",
              "    </tr>\n",
              "    <tr>\n",
              "      <th>Peaceful Meditation</th>\n",
              "      <td>200</td>\n",
              "    </tr>\n",
              "    <tr>\n",
              "      <th>...</th>\n",
              "      <td>...</td>\n",
              "    </tr>\n",
              "    <tr>\n",
              "      <th>Happy Pop Hits</th>\n",
              "      <td>11</td>\n",
              "    </tr>\n",
              "    <tr>\n",
              "      <th>Hot Hits USA</th>\n",
              "      <td>11</td>\n",
              "    </tr>\n",
              "    <tr>\n",
              "      <th>Easy 90s</th>\n",
              "      <td>11</td>\n",
              "    </tr>\n",
              "    <tr>\n",
              "      <th>Mega Hit Mix</th>\n",
              "      <td>7</td>\n",
              "    </tr>\n",
              "    <tr>\n",
              "      <th>Hit Repeat</th>\n",
              "      <td>2</td>\n",
              "    </tr>\n",
              "  </tbody>\n",
              "</table>\n",
              "<p>111 rows × 1 columns</p>\n",
              "</div><br><label><b>dtype:</b> int64</label>"
            ]
          },
          "metadata": {},
          "execution_count": 12
        }
      ],
      "source": [
        "df_need['playlist_name'].value_counts()"
      ]
    },
    {
      "cell_type": "code",
      "execution_count": 13,
      "metadata": {
        "colab": {
          "base_uri": "https://localhost:8080/",
          "height": 147
        },
        "id": "C-_42raG3r7V",
        "outputId": "35aa1788-98f0-4827-8aa3-12b668a6c9a3"
      },
      "outputs": [
        {
          "output_type": "execute_result",
          "data": {
            "text/plain": [
              "types\n",
              "audio_features    7994\n",
              "Name: count, dtype: int64"
            ],
            "text/html": [
              "<div>\n",
              "<style scoped>\n",
              "    .dataframe tbody tr th:only-of-type {\n",
              "        vertical-align: middle;\n",
              "    }\n",
              "\n",
              "    .dataframe tbody tr th {\n",
              "        vertical-align: top;\n",
              "    }\n",
              "\n",
              "    .dataframe thead th {\n",
              "        text-align: right;\n",
              "    }\n",
              "</style>\n",
              "<table border=\"1\" class=\"dataframe\">\n",
              "  <thead>\n",
              "    <tr style=\"text-align: right;\">\n",
              "      <th></th>\n",
              "      <th>count</th>\n",
              "    </tr>\n",
              "    <tr>\n",
              "      <th>types</th>\n",
              "      <th></th>\n",
              "    </tr>\n",
              "  </thead>\n",
              "  <tbody>\n",
              "    <tr>\n",
              "      <th>audio_features</th>\n",
              "      <td>7994</td>\n",
              "    </tr>\n",
              "  </tbody>\n",
              "</table>\n",
              "</div><br><label><b>dtype:</b> int64</label>"
            ]
          },
          "metadata": {},
          "execution_count": 13
        }
      ],
      "source": [
        "df_need['types'].value_counts()"
      ]
    },
    {
      "cell_type": "markdown",
      "metadata": {
        "id": "L8en7STrGw_U"
      },
      "source": [
        "## Dropping unneeded column"
      ]
    },
    {
      "cell_type": "code",
      "execution_count": 14,
      "metadata": {
        "id": "3cwuPYe_7JWr"
      },
      "outputs": [],
      "source": [
        "df_need.drop('types', axis=1, inplace=True)"
      ]
    },
    {
      "cell_type": "markdown",
      "metadata": {
        "id": "l8w3fncvwoU2"
      },
      "source": [
        "## Encoding Artis genres with Word2Vec"
      ]
    },
    {
      "cell_type": "code",
      "execution_count": 15,
      "metadata": {
        "colab": {
          "base_uri": "https://localhost:8080/"
        },
        "id": "VbiWkj7EfEmh",
        "outputId": "993e4756-26cc-45f5-eb9d-62b442306b29"
      },
      "outputs": [
        {
          "output_type": "stream",
          "name": "stdout",
          "text": [
            "0.046105437\n"
          ]
        }
      ],
      "source": [
        "from gensim.models import Word2Vec\n",
        "import numpy as np\n",
        "import string\n",
        "\n",
        "def clean_text(text):\n",
        "    return ''.join([char for char in text if char not in string.punctuation])\n",
        "\n",
        "df_need['artist_genres'] = df_need['artist_genres'].apply(clean_text).apply(lambda x: x.split())\n",
        "sentences = df_need['artist_genres'].tolist()\n",
        "\n",
        "model = Word2Vec(sentences, vector_size=10, window=2, min_count=1, workers=4)\n",
        "\n",
        "pop_embedding = model.wv['pop']\n",
        "print(np.mean(pop_embedding))"
      ]
    },
    {
      "cell_type": "code",
      "execution_count": 16,
      "metadata": {
        "id": "koK7ao7cr0jI"
      },
      "outputs": [],
      "source": [
        "import numpy as np\n",
        "from gensim.models import Word2Vec\n",
        "import string\n",
        "\n",
        "def calculate_mean_embedding(genre):\n",
        "    if genre:\n",
        "        embeddings = [model.wv[word] for word in genre if word in model.wv]\n",
        "\n",
        "        if embeddings:\n",
        "            mean_embedding = np.median(embeddings)\n",
        "            return mean_embedding\n",
        "    return 0\n",
        "\n",
        "df_need['artist_genres'] = df_need['artist_genres'].apply(calculate_mean_embedding)"
      ]
    },
    {
      "cell_type": "code",
      "execution_count": 17,
      "metadata": {
        "colab": {
          "base_uri": "https://localhost:8080/",
          "height": 490
        },
        "id": "p2rxHKT1s9HQ",
        "outputId": "6c44e6e7-9c37-4073-ca84-478cc4e9b240"
      },
      "outputs": [
        {
          "output_type": "execute_result",
          "data": {
            "text/plain": [
              "artist_genres\n",
              " 0.000000    1317\n",
              "-0.003739     313\n",
              " 0.042590     142\n",
              "-0.099873     122\n",
              "-0.092197     120\n",
              "             ... \n",
              " 0.220510       1\n",
              " 0.052730       1\n",
              " 0.115228       1\n",
              " 0.175161       1\n",
              " 0.190195       1\n",
              "Name: count, Length: 1290, dtype: int64"
            ],
            "text/html": [
              "<div>\n",
              "<style scoped>\n",
              "    .dataframe tbody tr th:only-of-type {\n",
              "        vertical-align: middle;\n",
              "    }\n",
              "\n",
              "    .dataframe tbody tr th {\n",
              "        vertical-align: top;\n",
              "    }\n",
              "\n",
              "    .dataframe thead th {\n",
              "        text-align: right;\n",
              "    }\n",
              "</style>\n",
              "<table border=\"1\" class=\"dataframe\">\n",
              "  <thead>\n",
              "    <tr style=\"text-align: right;\">\n",
              "      <th></th>\n",
              "      <th>count</th>\n",
              "    </tr>\n",
              "    <tr>\n",
              "      <th>artist_genres</th>\n",
              "      <th></th>\n",
              "    </tr>\n",
              "  </thead>\n",
              "  <tbody>\n",
              "    <tr>\n",
              "      <th>0.000000</th>\n",
              "      <td>1317</td>\n",
              "    </tr>\n",
              "    <tr>\n",
              "      <th>-0.003739</th>\n",
              "      <td>313</td>\n",
              "    </tr>\n",
              "    <tr>\n",
              "      <th>0.042590</th>\n",
              "      <td>142</td>\n",
              "    </tr>\n",
              "    <tr>\n",
              "      <th>-0.099873</th>\n",
              "      <td>122</td>\n",
              "    </tr>\n",
              "    <tr>\n",
              "      <th>-0.092197</th>\n",
              "      <td>120</td>\n",
              "    </tr>\n",
              "    <tr>\n",
              "      <th>...</th>\n",
              "      <td>...</td>\n",
              "    </tr>\n",
              "    <tr>\n",
              "      <th>0.220510</th>\n",
              "      <td>1</td>\n",
              "    </tr>\n",
              "    <tr>\n",
              "      <th>0.052730</th>\n",
              "      <td>1</td>\n",
              "    </tr>\n",
              "    <tr>\n",
              "      <th>0.115228</th>\n",
              "      <td>1</td>\n",
              "    </tr>\n",
              "    <tr>\n",
              "      <th>0.175161</th>\n",
              "      <td>1</td>\n",
              "    </tr>\n",
              "    <tr>\n",
              "      <th>0.190195</th>\n",
              "      <td>1</td>\n",
              "    </tr>\n",
              "  </tbody>\n",
              "</table>\n",
              "<p>1290 rows × 1 columns</p>\n",
              "</div><br><label><b>dtype:</b> int64</label>"
            ]
          },
          "metadata": {},
          "execution_count": 17
        }
      ],
      "source": [
        "df_need['artist_genres'].value_counts()"
      ]
    },
    {
      "cell_type": "markdown",
      "metadata": {
        "id": "f9VRRPfu4i97"
      },
      "source": [
        "Splitting Data"
      ]
    },
    {
      "cell_type": "code",
      "execution_count": 18,
      "metadata": {
        "id": "u4e1jn6k4pgq"
      },
      "outputs": [],
      "source": [
        "#Model is not trained in the traditional sense. The recommendation score is directly calculated based on available data. That's why I didn't divide the collection\n",
        "\n",
        "X = df_need.drop('song', axis=1)\n",
        "y = df_need['song']"
      ]
    },
    {
      "cell_type": "markdown",
      "metadata": {
        "id": "t9LGRfjHHBXA"
      },
      "source": [
        "## Encoding rest of the dataframe"
      ]
    },
    {
      "cell_type": "code",
      "execution_count": 19,
      "metadata": {
        "id": "qhYF87WawqaB"
      },
      "outputs": [],
      "source": [
        "from sklearn.preprocessing import StandardScaler\n",
        "from sklearn.pipeline import Pipeline\n",
        "from sklearn.compose import ColumnTransformer"
      ]
    },
    {
      "cell_type": "code",
      "execution_count": 20,
      "metadata": {
        "colab": {
          "base_uri": "https://localhost:8080/"
        },
        "id": "p1JiS3DF1Ql4",
        "outputId": "740ef856-3dce-4fbf-9e17-2b3791138ae7"
      },
      "outputs": [
        {
          "output_type": "stream",
          "name": "stdout",
          "text": [
            "['artist_pop', 'artist_genres', 'track_pop', 'danceability', 'energy', 'loudness', 'speechiness', 'acousticness', 'instrumentalness', 'liveness', 'valences', 'tempos', 'durations_ms', 'time_signatures']\n",
            "['albums', 'playlist_name']\n"
          ]
        }
      ],
      "source": [
        "numeric_columns = X.select_dtypes(include=['number']).columns.tolist()\n",
        "non_numeric_columns = X.select_dtypes(exclude=['number']).columns.tolist()\n",
        "print(numeric_columns)\n",
        "print(non_numeric_columns)"
      ]
    },
    {
      "cell_type": "code",
      "execution_count": 21,
      "metadata": {
        "id": "zhYUBFt0zXPN"
      },
      "outputs": [],
      "source": [
        "frequency = X['artist_genres'].value_counts(normalize=True)\n",
        "X['artist_genres'] = X['artist_genres'].map(frequency)"
      ]
    },
    {
      "cell_type": "code",
      "execution_count": 22,
      "metadata": {
        "colab": {
          "base_uri": "https://localhost:8080/"
        },
        "id": "ZFsy_eZf0rhX",
        "outputId": "8e24415f-60d6-428d-a133-aed3df3204c0"
      },
      "outputs": [
        {
          "output_type": "stream",
          "name": "stdout",
          "text": [
            "[[ 1.25093820e-04  6.37978484e-03  1.20018438e+00 ... -4.46227993e-01\n",
            "  -1.04101172e+00  2.04009151e-01]\n",
            " [ 1.25093820e-04  6.37978484e-03  2.66312125e-01 ... -1.11118814e-01\n",
            "  -1.38724086e+00  2.04009151e-01]\n",
            " [ 5.00375281e-04  6.37978484e-03  1.03538339e+00 ...  3.30648089e-01\n",
            "  -1.81245862e-01  2.04009151e-01]\n",
            " ...\n",
            " [ 1.25093820e-04  1.90142607e-02 -1.10702942e+00 ...  1.89696186e-01\n",
            "  -2.49827215e-01  2.04009151e-01]\n",
            " [ 1.25093820e-04  1.90142607e-02 -8.32361110e-01 ...  5.06035300e-01\n",
            "  -2.48638605e-01  2.04009151e-01]\n",
            " [ 2.50187641e-04  1.90142607e-02 -7.22493787e-01 ...  8.52259522e-02\n",
            "  -3.59508690e-01  2.04009151e-01]]\n"
          ]
        }
      ],
      "source": [
        "from sklearn.compose import ColumnTransformer\n",
        "from sklearn.pipeline import Pipeline\n",
        "from sklearn.preprocessing import StandardScaler\n",
        "import pandas as pd\n",
        "\n",
        "\n",
        "# Kodowanie częstotliwościowe\n",
        "class FrequencyEncoder:\n",
        "    def fit(self, X, y=None):\n",
        "        self.frequency_maps = {}\n",
        "        for column in X.columns:\n",
        "            frequency = X[column].value_counts(normalize=True)\n",
        "            self.frequency_maps[column] = frequency\n",
        "        return self\n",
        "\n",
        "    def transform(self, X):\n",
        "        X_encoded = X.copy()\n",
        "        for column in X.columns:\n",
        "            X_encoded[column] = X_encoded[column].map(self.frequency_maps[column])\n",
        "        return X_encoded\n",
        "\n",
        "    def fit_transform(self, X, y=None):\n",
        "        return self.fit(X).transform(X)\n",
        "\n",
        "    def get_params(self, deep=True):\n",
        "        return {}\n",
        "\n",
        "\n",
        "steps = [\n",
        "    ('frequency_encoder', FrequencyEncoder()),\n",
        "    ('scaler', StandardScaler())\n",
        "]\n",
        "\n",
        "preprocessor = ColumnTransformer(\n",
        "    transformers=[\n",
        "        ('cat', FrequencyEncoder(), non_numeric_columns),\n",
        "        ('num', StandardScaler(), numeric_columns)\n",
        "    ]\n",
        ")\n",
        "\n",
        "pipeline = Pipeline(steps=[('preprocessor', preprocessor)])\n",
        "\n",
        "\n",
        "pipeline.fit(X)\n",
        "\n",
        "X_transformed = pipeline.transform(X)\n",
        "\n",
        "print(X_transformed)"
      ]
    },
    {
      "cell_type": "markdown",
      "source": [
        "## Using Content-Based Filtering with recommendation problem"
      ],
      "metadata": {
        "id": "JN6Qlvn12voO"
      }
    },
    {
      "cell_type": "markdown",
      "source": [
        "## KNN"
      ],
      "metadata": {
        "id": "0xphi-1wMbar"
      }
    },
    {
      "cell_type": "code",
      "execution_count": 23,
      "metadata": {
        "id": "NcA_adup1trz"
      },
      "outputs": [],
      "source": [
        "from sklearn.neighbors import NearestNeighbors"
      ]
    },
    {
      "cell_type": "code",
      "execution_count": 24,
      "metadata": {
        "id": "7AegOhYS23EO"
      },
      "outputs": [],
      "source": [
        "def recommend_songs_KNN(song_index=0):\n",
        "  result = []\n",
        "  knn = NearestNeighbors(n_neighbors=3, metric='euclidean')\n",
        "  knn.fit(X_transformed)\n",
        "\n",
        "  distances, indices = knn.kneighbors([X_transformed[song_index]])\n",
        "\n",
        "  for idx in indices[0][1:]:\n",
        "      result.append(idx)\n",
        "  return result"
      ]
    },
    {
      "cell_type": "code",
      "execution_count": 25,
      "metadata": {
        "colab": {
          "base_uri": "https://localhost:8080/"
        },
        "id": "A0p4XngA6fyn",
        "outputId": "2f566032-2e06-4e97-9aed-68eccc6d744a"
      },
      "outputs": [
        {
          "output_type": "stream",
          "name": "stdout",
          "text": [
            "Rekomendowane piosenki:\n",
            "IT'S GETTING HOT - NLE Choppa\n",
            "Lalkara - Diljit Dosanjh\n"
          ]
        }
      ],
      "source": [
        "print(\"Rekomendowane piosenki:\")\n",
        "result = recommend_songs_KNN()\n",
        "print(y.iloc[result[0]])\n",
        "print(y.iloc[result[1]])"
      ]
    },
    {
      "cell_type": "code",
      "execution_count": 26,
      "metadata": {
        "colab": {
          "base_uri": "https://localhost:8080/",
          "height": 81
        },
        "id": "WKktybEW4h-4",
        "outputId": "81ac8b90-4c79-4909-a6a1-736b05072504"
      },
      "outputs": [
        {
          "output_type": "execute_result",
          "data": {
            "text/plain": [
              "      artist_pop  artist_genres            albums  track_pop  danceability  \\\n",
              "2268          77       -0.12722  IT'S GETTING HOT         78         0.908   \n",
              "\n",
              "      energy  loudness  speechiness  acousticness  instrumentalness  liveness  \\\n",
              "2268   0.757    -3.889       0.0606         0.015               0.0    0.0673   \n",
              "\n",
              "      valences   tempos  durations_ms  time_signatures playlist_name  \\\n",
              "2268     0.577  106.031        134425                4    Viral Hits   \n",
              "\n",
              "                               song  \n",
              "2268  IT'S GETTING HOT - NLE Choppa  "
            ],
            "text/html": [
              "\n",
              "  <div id=\"df-b0d9c055-e390-46f5-978d-02fca11cb542\" class=\"colab-df-container\">\n",
              "    <div>\n",
              "<style scoped>\n",
              "    .dataframe tbody tr th:only-of-type {\n",
              "        vertical-align: middle;\n",
              "    }\n",
              "\n",
              "    .dataframe tbody tr th {\n",
              "        vertical-align: top;\n",
              "    }\n",
              "\n",
              "    .dataframe thead th {\n",
              "        text-align: right;\n",
              "    }\n",
              "</style>\n",
              "<table border=\"1\" class=\"dataframe\">\n",
              "  <thead>\n",
              "    <tr style=\"text-align: right;\">\n",
              "      <th></th>\n",
              "      <th>artist_pop</th>\n",
              "      <th>artist_genres</th>\n",
              "      <th>albums</th>\n",
              "      <th>track_pop</th>\n",
              "      <th>danceability</th>\n",
              "      <th>energy</th>\n",
              "      <th>loudness</th>\n",
              "      <th>speechiness</th>\n",
              "      <th>acousticness</th>\n",
              "      <th>instrumentalness</th>\n",
              "      <th>liveness</th>\n",
              "      <th>valences</th>\n",
              "      <th>tempos</th>\n",
              "      <th>durations_ms</th>\n",
              "      <th>time_signatures</th>\n",
              "      <th>playlist_name</th>\n",
              "      <th>song</th>\n",
              "    </tr>\n",
              "  </thead>\n",
              "  <tbody>\n",
              "    <tr>\n",
              "      <th>2268</th>\n",
              "      <td>77</td>\n",
              "      <td>-0.12722</td>\n",
              "      <td>IT'S GETTING HOT</td>\n",
              "      <td>78</td>\n",
              "      <td>0.908</td>\n",
              "      <td>0.757</td>\n",
              "      <td>-3.889</td>\n",
              "      <td>0.0606</td>\n",
              "      <td>0.015</td>\n",
              "      <td>0.0</td>\n",
              "      <td>0.0673</td>\n",
              "      <td>0.577</td>\n",
              "      <td>106.031</td>\n",
              "      <td>134425</td>\n",
              "      <td>4</td>\n",
              "      <td>Viral Hits</td>\n",
              "      <td>IT'S GETTING HOT - NLE Choppa</td>\n",
              "    </tr>\n",
              "  </tbody>\n",
              "</table>\n",
              "</div>\n",
              "    <div class=\"colab-df-buttons\">\n",
              "\n",
              "  <div class=\"colab-df-container\">\n",
              "    <button class=\"colab-df-convert\" onclick=\"convertToInteractive('df-b0d9c055-e390-46f5-978d-02fca11cb542')\"\n",
              "            title=\"Convert this dataframe to an interactive table.\"\n",
              "            style=\"display:none;\">\n",
              "\n",
              "  <svg xmlns=\"http://www.w3.org/2000/svg\" height=\"24px\" viewBox=\"0 -960 960 960\">\n",
              "    <path d=\"M120-120v-720h720v720H120Zm60-500h600v-160H180v160Zm220 220h160v-160H400v160Zm0 220h160v-160H400v160ZM180-400h160v-160H180v160Zm440 0h160v-160H620v160ZM180-180h160v-160H180v160Zm440 0h160v-160H620v160Z\"/>\n",
              "  </svg>\n",
              "    </button>\n",
              "\n",
              "  <style>\n",
              "    .colab-df-container {\n",
              "      display:flex;\n",
              "      gap: 12px;\n",
              "    }\n",
              "\n",
              "    .colab-df-convert {\n",
              "      background-color: #E8F0FE;\n",
              "      border: none;\n",
              "      border-radius: 50%;\n",
              "      cursor: pointer;\n",
              "      display: none;\n",
              "      fill: #1967D2;\n",
              "      height: 32px;\n",
              "      padding: 0 0 0 0;\n",
              "      width: 32px;\n",
              "    }\n",
              "\n",
              "    .colab-df-convert:hover {\n",
              "      background-color: #E2EBFA;\n",
              "      box-shadow: 0px 1px 2px rgba(60, 64, 67, 0.3), 0px 1px 3px 1px rgba(60, 64, 67, 0.15);\n",
              "      fill: #174EA6;\n",
              "    }\n",
              "\n",
              "    .colab-df-buttons div {\n",
              "      margin-bottom: 4px;\n",
              "    }\n",
              "\n",
              "    [theme=dark] .colab-df-convert {\n",
              "      background-color: #3B4455;\n",
              "      fill: #D2E3FC;\n",
              "    }\n",
              "\n",
              "    [theme=dark] .colab-df-convert:hover {\n",
              "      background-color: #434B5C;\n",
              "      box-shadow: 0px 1px 3px 1px rgba(0, 0, 0, 0.15);\n",
              "      filter: drop-shadow(0px 1px 2px rgba(0, 0, 0, 0.3));\n",
              "      fill: #FFFFFF;\n",
              "    }\n",
              "  </style>\n",
              "\n",
              "    <script>\n",
              "      const buttonEl =\n",
              "        document.querySelector('#df-b0d9c055-e390-46f5-978d-02fca11cb542 button.colab-df-convert');\n",
              "      buttonEl.style.display =\n",
              "        google.colab.kernel.accessAllowed ? 'block' : 'none';\n",
              "\n",
              "      async function convertToInteractive(key) {\n",
              "        const element = document.querySelector('#df-b0d9c055-e390-46f5-978d-02fca11cb542');\n",
              "        const dataTable =\n",
              "          await google.colab.kernel.invokeFunction('convertToInteractive',\n",
              "                                                    [key], {});\n",
              "        if (!dataTable) return;\n",
              "\n",
              "        const docLinkHtml = 'Like what you see? Visit the ' +\n",
              "          '<a target=\"_blank\" href=https://colab.research.google.com/notebooks/data_table.ipynb>data table notebook</a>'\n",
              "          + ' to learn more about interactive tables.';\n",
              "        element.innerHTML = '';\n",
              "        dataTable['output_type'] = 'display_data';\n",
              "        await google.colab.output.renderOutput(dataTable, element);\n",
              "        const docLink = document.createElement('div');\n",
              "        docLink.innerHTML = docLinkHtml;\n",
              "        element.appendChild(docLink);\n",
              "      }\n",
              "    </script>\n",
              "  </div>\n",
              "\n",
              "\n",
              "    </div>\n",
              "  </div>\n"
            ],
            "application/vnd.google.colaboratory.intrinsic+json": {
              "type": "dataframe",
              "summary": "{\n  \"name\": \"df_need[df_need['song'] == \\\"IT'S GETTING HOT - NLE Choppa\\\"]\",\n  \"rows\": 1,\n  \"fields\": [\n    {\n      \"column\": \"artist_pop\",\n      \"properties\": {\n        \"dtype\": \"number\",\n        \"std\": null,\n        \"min\": 77,\n        \"max\": 77,\n        \"num_unique_values\": 1,\n        \"samples\": [\n          77\n        ],\n        \"semantic_type\": \"\",\n        \"description\": \"\"\n      }\n    },\n    {\n      \"column\": \"artist_genres\",\n      \"properties\": {\n        \"dtype\": \"number\",\n        \"std\": null,\n        \"min\": -0.12721973657608032,\n        \"max\": -0.12721973657608032,\n        \"num_unique_values\": 1,\n        \"samples\": [\n          -0.12721973657608032\n        ],\n        \"semantic_type\": \"\",\n        \"description\": \"\"\n      }\n    },\n    {\n      \"column\": \"albums\",\n      \"properties\": {\n        \"dtype\": \"string\",\n        \"num_unique_values\": 1,\n        \"samples\": [\n          \"IT'S GETTING HOT\"\n        ],\n        \"semantic_type\": \"\",\n        \"description\": \"\"\n      }\n    },\n    {\n      \"column\": \"track_pop\",\n      \"properties\": {\n        \"dtype\": \"number\",\n        \"std\": null,\n        \"min\": 78,\n        \"max\": 78,\n        \"num_unique_values\": 1,\n        \"samples\": [\n          78\n        ],\n        \"semantic_type\": \"\",\n        \"description\": \"\"\n      }\n    },\n    {\n      \"column\": \"danceability\",\n      \"properties\": {\n        \"dtype\": \"number\",\n        \"std\": null,\n        \"min\": 0.908,\n        \"max\": 0.908,\n        \"num_unique_values\": 1,\n        \"samples\": [\n          0.908\n        ],\n        \"semantic_type\": \"\",\n        \"description\": \"\"\n      }\n    },\n    {\n      \"column\": \"energy\",\n      \"properties\": {\n        \"dtype\": \"number\",\n        \"std\": null,\n        \"min\": 0.757,\n        \"max\": 0.757,\n        \"num_unique_values\": 1,\n        \"samples\": [\n          0.757\n        ],\n        \"semantic_type\": \"\",\n        \"description\": \"\"\n      }\n    },\n    {\n      \"column\": \"loudness\",\n      \"properties\": {\n        \"dtype\": \"number\",\n        \"std\": null,\n        \"min\": -3.889,\n        \"max\": -3.889,\n        \"num_unique_values\": 1,\n        \"samples\": [\n          -3.889\n        ],\n        \"semantic_type\": \"\",\n        \"description\": \"\"\n      }\n    },\n    {\n      \"column\": \"speechiness\",\n      \"properties\": {\n        \"dtype\": \"number\",\n        \"std\": null,\n        \"min\": 0.0606,\n        \"max\": 0.0606,\n        \"num_unique_values\": 1,\n        \"samples\": [\n          0.0606\n        ],\n        \"semantic_type\": \"\",\n        \"description\": \"\"\n      }\n    },\n    {\n      \"column\": \"acousticness\",\n      \"properties\": {\n        \"dtype\": \"number\",\n        \"std\": null,\n        \"min\": 0.015,\n        \"max\": 0.015,\n        \"num_unique_values\": 1,\n        \"samples\": [\n          0.015\n        ],\n        \"semantic_type\": \"\",\n        \"description\": \"\"\n      }\n    },\n    {\n      \"column\": \"instrumentalness\",\n      \"properties\": {\n        \"dtype\": \"number\",\n        \"std\": null,\n        \"min\": 0.0,\n        \"max\": 0.0,\n        \"num_unique_values\": 1,\n        \"samples\": [\n          0.0\n        ],\n        \"semantic_type\": \"\",\n        \"description\": \"\"\n      }\n    },\n    {\n      \"column\": \"liveness\",\n      \"properties\": {\n        \"dtype\": \"number\",\n        \"std\": null,\n        \"min\": 0.0673,\n        \"max\": 0.0673,\n        \"num_unique_values\": 1,\n        \"samples\": [\n          0.0673\n        ],\n        \"semantic_type\": \"\",\n        \"description\": \"\"\n      }\n    },\n    {\n      \"column\": \"valences\",\n      \"properties\": {\n        \"dtype\": \"number\",\n        \"std\": null,\n        \"min\": 0.577,\n        \"max\": 0.577,\n        \"num_unique_values\": 1,\n        \"samples\": [\n          0.577\n        ],\n        \"semantic_type\": \"\",\n        \"description\": \"\"\n      }\n    },\n    {\n      \"column\": \"tempos\",\n      \"properties\": {\n        \"dtype\": \"number\",\n        \"std\": null,\n        \"min\": 106.031,\n        \"max\": 106.031,\n        \"num_unique_values\": 1,\n        \"samples\": [\n          106.031\n        ],\n        \"semantic_type\": \"\",\n        \"description\": \"\"\n      }\n    },\n    {\n      \"column\": \"durations_ms\",\n      \"properties\": {\n        \"dtype\": \"number\",\n        \"std\": null,\n        \"min\": 134425,\n        \"max\": 134425,\n        \"num_unique_values\": 1,\n        \"samples\": [\n          134425\n        ],\n        \"semantic_type\": \"\",\n        \"description\": \"\"\n      }\n    },\n    {\n      \"column\": \"time_signatures\",\n      \"properties\": {\n        \"dtype\": \"number\",\n        \"std\": null,\n        \"min\": 4,\n        \"max\": 4,\n        \"num_unique_values\": 1,\n        \"samples\": [\n          4\n        ],\n        \"semantic_type\": \"\",\n        \"description\": \"\"\n      }\n    },\n    {\n      \"column\": \"playlist_name\",\n      \"properties\": {\n        \"dtype\": \"string\",\n        \"num_unique_values\": 1,\n        \"samples\": [\n          \"Viral Hits\"\n        ],\n        \"semantic_type\": \"\",\n        \"description\": \"\"\n      }\n    },\n    {\n      \"column\": \"song\",\n      \"properties\": {\n        \"dtype\": \"string\",\n        \"num_unique_values\": 1,\n        \"samples\": [\n          \"IT'S GETTING HOT - NLE Choppa\"\n        ],\n        \"semantic_type\": \"\",\n        \"description\": \"\"\n      }\n    }\n  ]\n}"
            }
          },
          "metadata": {},
          "execution_count": 26
        }
      ],
      "source": [
        "df_need[df_need['song'] == \"IT'S GETTING HOT - NLE Choppa\"]"
      ]
    },
    {
      "cell_type": "code",
      "execution_count": 27,
      "metadata": {
        "colab": {
          "base_uri": "https://localhost:8080/",
          "height": 81
        },
        "id": "BINoPBz65C1u",
        "outputId": "516fedff-1930-4b56-e30c-9c80d648467c"
      },
      "outputs": [
        {
          "output_type": "execute_result",
          "data": {
            "text/plain": [
              "      artist_pop  artist_genres albums  track_pop  danceability  energy  \\\n",
              "5928          74       0.081753  Ghost         78          0.85   0.557   \n",
              "\n",
              "      loudness  speechiness  acousticness  instrumentalness  liveness  \\\n",
              "5928    -4.503       0.0431        0.0365          0.000002     0.131   \n",
              "\n",
              "      valences  tempos  durations_ms  time_signatures     playlist_name  \\\n",
              "5928     0.468   96.99        160500                4  Hot Hits Punjabi   \n",
              "\n",
              "                          song  \n",
              "5928  Lalkara - Diljit Dosanjh  "
            ],
            "text/html": [
              "\n",
              "  <div id=\"df-c5984507-e726-4e0e-9557-584abbbedae5\" class=\"colab-df-container\">\n",
              "    <div>\n",
              "<style scoped>\n",
              "    .dataframe tbody tr th:only-of-type {\n",
              "        vertical-align: middle;\n",
              "    }\n",
              "\n",
              "    .dataframe tbody tr th {\n",
              "        vertical-align: top;\n",
              "    }\n",
              "\n",
              "    .dataframe thead th {\n",
              "        text-align: right;\n",
              "    }\n",
              "</style>\n",
              "<table border=\"1\" class=\"dataframe\">\n",
              "  <thead>\n",
              "    <tr style=\"text-align: right;\">\n",
              "      <th></th>\n",
              "      <th>artist_pop</th>\n",
              "      <th>artist_genres</th>\n",
              "      <th>albums</th>\n",
              "      <th>track_pop</th>\n",
              "      <th>danceability</th>\n",
              "      <th>energy</th>\n",
              "      <th>loudness</th>\n",
              "      <th>speechiness</th>\n",
              "      <th>acousticness</th>\n",
              "      <th>instrumentalness</th>\n",
              "      <th>liveness</th>\n",
              "      <th>valences</th>\n",
              "      <th>tempos</th>\n",
              "      <th>durations_ms</th>\n",
              "      <th>time_signatures</th>\n",
              "      <th>playlist_name</th>\n",
              "      <th>song</th>\n",
              "    </tr>\n",
              "  </thead>\n",
              "  <tbody>\n",
              "    <tr>\n",
              "      <th>5928</th>\n",
              "      <td>74</td>\n",
              "      <td>0.081753</td>\n",
              "      <td>Ghost</td>\n",
              "      <td>78</td>\n",
              "      <td>0.85</td>\n",
              "      <td>0.557</td>\n",
              "      <td>-4.503</td>\n",
              "      <td>0.0431</td>\n",
              "      <td>0.0365</td>\n",
              "      <td>0.000002</td>\n",
              "      <td>0.131</td>\n",
              "      <td>0.468</td>\n",
              "      <td>96.99</td>\n",
              "      <td>160500</td>\n",
              "      <td>4</td>\n",
              "      <td>Hot Hits Punjabi</td>\n",
              "      <td>Lalkara - Diljit Dosanjh</td>\n",
              "    </tr>\n",
              "  </tbody>\n",
              "</table>\n",
              "</div>\n",
              "    <div class=\"colab-df-buttons\">\n",
              "\n",
              "  <div class=\"colab-df-container\">\n",
              "    <button class=\"colab-df-convert\" onclick=\"convertToInteractive('df-c5984507-e726-4e0e-9557-584abbbedae5')\"\n",
              "            title=\"Convert this dataframe to an interactive table.\"\n",
              "            style=\"display:none;\">\n",
              "\n",
              "  <svg xmlns=\"http://www.w3.org/2000/svg\" height=\"24px\" viewBox=\"0 -960 960 960\">\n",
              "    <path d=\"M120-120v-720h720v720H120Zm60-500h600v-160H180v160Zm220 220h160v-160H400v160Zm0 220h160v-160H400v160ZM180-400h160v-160H180v160Zm440 0h160v-160H620v160ZM180-180h160v-160H180v160Zm440 0h160v-160H620v160Z\"/>\n",
              "  </svg>\n",
              "    </button>\n",
              "\n",
              "  <style>\n",
              "    .colab-df-container {\n",
              "      display:flex;\n",
              "      gap: 12px;\n",
              "    }\n",
              "\n",
              "    .colab-df-convert {\n",
              "      background-color: #E8F0FE;\n",
              "      border: none;\n",
              "      border-radius: 50%;\n",
              "      cursor: pointer;\n",
              "      display: none;\n",
              "      fill: #1967D2;\n",
              "      height: 32px;\n",
              "      padding: 0 0 0 0;\n",
              "      width: 32px;\n",
              "    }\n",
              "\n",
              "    .colab-df-convert:hover {\n",
              "      background-color: #E2EBFA;\n",
              "      box-shadow: 0px 1px 2px rgba(60, 64, 67, 0.3), 0px 1px 3px 1px rgba(60, 64, 67, 0.15);\n",
              "      fill: #174EA6;\n",
              "    }\n",
              "\n",
              "    .colab-df-buttons div {\n",
              "      margin-bottom: 4px;\n",
              "    }\n",
              "\n",
              "    [theme=dark] .colab-df-convert {\n",
              "      background-color: #3B4455;\n",
              "      fill: #D2E3FC;\n",
              "    }\n",
              "\n",
              "    [theme=dark] .colab-df-convert:hover {\n",
              "      background-color: #434B5C;\n",
              "      box-shadow: 0px 1px 3px 1px rgba(0, 0, 0, 0.15);\n",
              "      filter: drop-shadow(0px 1px 2px rgba(0, 0, 0, 0.3));\n",
              "      fill: #FFFFFF;\n",
              "    }\n",
              "  </style>\n",
              "\n",
              "    <script>\n",
              "      const buttonEl =\n",
              "        document.querySelector('#df-c5984507-e726-4e0e-9557-584abbbedae5 button.colab-df-convert');\n",
              "      buttonEl.style.display =\n",
              "        google.colab.kernel.accessAllowed ? 'block' : 'none';\n",
              "\n",
              "      async function convertToInteractive(key) {\n",
              "        const element = document.querySelector('#df-c5984507-e726-4e0e-9557-584abbbedae5');\n",
              "        const dataTable =\n",
              "          await google.colab.kernel.invokeFunction('convertToInteractive',\n",
              "                                                    [key], {});\n",
              "        if (!dataTable) return;\n",
              "\n",
              "        const docLinkHtml = 'Like what you see? Visit the ' +\n",
              "          '<a target=\"_blank\" href=https://colab.research.google.com/notebooks/data_table.ipynb>data table notebook</a>'\n",
              "          + ' to learn more about interactive tables.';\n",
              "        element.innerHTML = '';\n",
              "        dataTable['output_type'] = 'display_data';\n",
              "        await google.colab.output.renderOutput(dataTable, element);\n",
              "        const docLink = document.createElement('div');\n",
              "        docLink.innerHTML = docLinkHtml;\n",
              "        element.appendChild(docLink);\n",
              "      }\n",
              "    </script>\n",
              "  </div>\n",
              "\n",
              "\n",
              "    </div>\n",
              "  </div>\n"
            ],
            "application/vnd.google.colaboratory.intrinsic+json": {
              "type": "dataframe",
              "summary": "{\n  \"name\": \"df_need[df_need['song'] == 'Lalkara - Diljit Dosanjh']\",\n  \"rows\": 1,\n  \"fields\": [\n    {\n      \"column\": \"artist_pop\",\n      \"properties\": {\n        \"dtype\": \"number\",\n        \"std\": null,\n        \"min\": 74,\n        \"max\": 74,\n        \"num_unique_values\": 1,\n        \"samples\": [\n          74\n        ],\n        \"semantic_type\": \"\",\n        \"description\": \"\"\n      }\n    },\n    {\n      \"column\": \"artist_genres\",\n      \"properties\": {\n        \"dtype\": \"number\",\n        \"std\": null,\n        \"min\": 0.08175309002399445,\n        \"max\": 0.08175309002399445,\n        \"num_unique_values\": 1,\n        \"samples\": [\n          0.08175309002399445\n        ],\n        \"semantic_type\": \"\",\n        \"description\": \"\"\n      }\n    },\n    {\n      \"column\": \"albums\",\n      \"properties\": {\n        \"dtype\": \"string\",\n        \"num_unique_values\": 1,\n        \"samples\": [\n          \"Ghost\"\n        ],\n        \"semantic_type\": \"\",\n        \"description\": \"\"\n      }\n    },\n    {\n      \"column\": \"track_pop\",\n      \"properties\": {\n        \"dtype\": \"number\",\n        \"std\": null,\n        \"min\": 78,\n        \"max\": 78,\n        \"num_unique_values\": 1,\n        \"samples\": [\n          78\n        ],\n        \"semantic_type\": \"\",\n        \"description\": \"\"\n      }\n    },\n    {\n      \"column\": \"danceability\",\n      \"properties\": {\n        \"dtype\": \"number\",\n        \"std\": null,\n        \"min\": 0.85,\n        \"max\": 0.85,\n        \"num_unique_values\": 1,\n        \"samples\": [\n          0.85\n        ],\n        \"semantic_type\": \"\",\n        \"description\": \"\"\n      }\n    },\n    {\n      \"column\": \"energy\",\n      \"properties\": {\n        \"dtype\": \"number\",\n        \"std\": null,\n        \"min\": 0.557,\n        \"max\": 0.557,\n        \"num_unique_values\": 1,\n        \"samples\": [\n          0.557\n        ],\n        \"semantic_type\": \"\",\n        \"description\": \"\"\n      }\n    },\n    {\n      \"column\": \"loudness\",\n      \"properties\": {\n        \"dtype\": \"number\",\n        \"std\": null,\n        \"min\": -4.503,\n        \"max\": -4.503,\n        \"num_unique_values\": 1,\n        \"samples\": [\n          -4.503\n        ],\n        \"semantic_type\": \"\",\n        \"description\": \"\"\n      }\n    },\n    {\n      \"column\": \"speechiness\",\n      \"properties\": {\n        \"dtype\": \"number\",\n        \"std\": null,\n        \"min\": 0.0431,\n        \"max\": 0.0431,\n        \"num_unique_values\": 1,\n        \"samples\": [\n          0.0431\n        ],\n        \"semantic_type\": \"\",\n        \"description\": \"\"\n      }\n    },\n    {\n      \"column\": \"acousticness\",\n      \"properties\": {\n        \"dtype\": \"number\",\n        \"std\": null,\n        \"min\": 0.0365,\n        \"max\": 0.0365,\n        \"num_unique_values\": 1,\n        \"samples\": [\n          0.0365\n        ],\n        \"semantic_type\": \"\",\n        \"description\": \"\"\n      }\n    },\n    {\n      \"column\": \"instrumentalness\",\n      \"properties\": {\n        \"dtype\": \"number\",\n        \"std\": null,\n        \"min\": 2.08e-06,\n        \"max\": 2.08e-06,\n        \"num_unique_values\": 1,\n        \"samples\": [\n          2.08e-06\n        ],\n        \"semantic_type\": \"\",\n        \"description\": \"\"\n      }\n    },\n    {\n      \"column\": \"liveness\",\n      \"properties\": {\n        \"dtype\": \"number\",\n        \"std\": null,\n        \"min\": 0.131,\n        \"max\": 0.131,\n        \"num_unique_values\": 1,\n        \"samples\": [\n          0.131\n        ],\n        \"semantic_type\": \"\",\n        \"description\": \"\"\n      }\n    },\n    {\n      \"column\": \"valences\",\n      \"properties\": {\n        \"dtype\": \"number\",\n        \"std\": null,\n        \"min\": 0.468,\n        \"max\": 0.468,\n        \"num_unique_values\": 1,\n        \"samples\": [\n          0.468\n        ],\n        \"semantic_type\": \"\",\n        \"description\": \"\"\n      }\n    },\n    {\n      \"column\": \"tempos\",\n      \"properties\": {\n        \"dtype\": \"number\",\n        \"std\": null,\n        \"min\": 96.99,\n        \"max\": 96.99,\n        \"num_unique_values\": 1,\n        \"samples\": [\n          96.99\n        ],\n        \"semantic_type\": \"\",\n        \"description\": \"\"\n      }\n    },\n    {\n      \"column\": \"durations_ms\",\n      \"properties\": {\n        \"dtype\": \"number\",\n        \"std\": null,\n        \"min\": 160500,\n        \"max\": 160500,\n        \"num_unique_values\": 1,\n        \"samples\": [\n          160500\n        ],\n        \"semantic_type\": \"\",\n        \"description\": \"\"\n      }\n    },\n    {\n      \"column\": \"time_signatures\",\n      \"properties\": {\n        \"dtype\": \"number\",\n        \"std\": null,\n        \"min\": 4,\n        \"max\": 4,\n        \"num_unique_values\": 1,\n        \"samples\": [\n          4\n        ],\n        \"semantic_type\": \"\",\n        \"description\": \"\"\n      }\n    },\n    {\n      \"column\": \"playlist_name\",\n      \"properties\": {\n        \"dtype\": \"string\",\n        \"num_unique_values\": 1,\n        \"samples\": [\n          \"Hot Hits Punjabi\"\n        ],\n        \"semantic_type\": \"\",\n        \"description\": \"\"\n      }\n    },\n    {\n      \"column\": \"song\",\n      \"properties\": {\n        \"dtype\": \"string\",\n        \"num_unique_values\": 1,\n        \"samples\": [\n          \"Lalkara - Diljit Dosanjh\"\n        ],\n        \"semantic_type\": \"\",\n        \"description\": \"\"\n      }\n    }\n  ]\n}"
            }
          },
          "metadata": {},
          "execution_count": 27
        }
      ],
      "source": [
        "df_need[df_need['song'] == 'Lalkara - Diljit Dosanjh']"
      ]
    },
    {
      "cell_type": "code",
      "execution_count": 28,
      "metadata": {
        "colab": {
          "base_uri": "https://localhost:8080/",
          "height": 617
        },
        "id": "bANuNP0s6nDV",
        "outputId": "a71c0056-e01b-4e23-ba6b-a442731624c4"
      },
      "outputs": [
        {
          "output_type": "execute_result",
          "data": {
            "text/plain": [
              "artist_pop                                 81\n",
              "artist_genres                       -0.011778\n",
              "albums                            Lovin On Me\n",
              "track_pop                                  88\n",
              "danceability                            0.943\n",
              "energy                                  0.558\n",
              "loudness                               -4.911\n",
              "speechiness                            0.0568\n",
              "acousticness                           0.0026\n",
              "instrumentalness                     0.000002\n",
              "liveness                               0.0937\n",
              "valences                                0.606\n",
              "tempos                                104.983\n",
              "durations_ms                           138411\n",
              "time_signatures                             4\n",
              "playlist_name              Hot Hits Australia\n",
              "song                Lovin On Me - Jack Harlow\n",
              "Name: 0, dtype: object"
            ],
            "text/html": [
              "<div>\n",
              "<style scoped>\n",
              "    .dataframe tbody tr th:only-of-type {\n",
              "        vertical-align: middle;\n",
              "    }\n",
              "\n",
              "    .dataframe tbody tr th {\n",
              "        vertical-align: top;\n",
              "    }\n",
              "\n",
              "    .dataframe thead th {\n",
              "        text-align: right;\n",
              "    }\n",
              "</style>\n",
              "<table border=\"1\" class=\"dataframe\">\n",
              "  <thead>\n",
              "    <tr style=\"text-align: right;\">\n",
              "      <th></th>\n",
              "      <th>0</th>\n",
              "    </tr>\n",
              "  </thead>\n",
              "  <tbody>\n",
              "    <tr>\n",
              "      <th>artist_pop</th>\n",
              "      <td>81</td>\n",
              "    </tr>\n",
              "    <tr>\n",
              "      <th>artist_genres</th>\n",
              "      <td>-0.011778</td>\n",
              "    </tr>\n",
              "    <tr>\n",
              "      <th>albums</th>\n",
              "      <td>Lovin On Me</td>\n",
              "    </tr>\n",
              "    <tr>\n",
              "      <th>track_pop</th>\n",
              "      <td>88</td>\n",
              "    </tr>\n",
              "    <tr>\n",
              "      <th>danceability</th>\n",
              "      <td>0.943</td>\n",
              "    </tr>\n",
              "    <tr>\n",
              "      <th>energy</th>\n",
              "      <td>0.558</td>\n",
              "    </tr>\n",
              "    <tr>\n",
              "      <th>loudness</th>\n",
              "      <td>-4.911</td>\n",
              "    </tr>\n",
              "    <tr>\n",
              "      <th>speechiness</th>\n",
              "      <td>0.0568</td>\n",
              "    </tr>\n",
              "    <tr>\n",
              "      <th>acousticness</th>\n",
              "      <td>0.0026</td>\n",
              "    </tr>\n",
              "    <tr>\n",
              "      <th>instrumentalness</th>\n",
              "      <td>0.000002</td>\n",
              "    </tr>\n",
              "    <tr>\n",
              "      <th>liveness</th>\n",
              "      <td>0.0937</td>\n",
              "    </tr>\n",
              "    <tr>\n",
              "      <th>valences</th>\n",
              "      <td>0.606</td>\n",
              "    </tr>\n",
              "    <tr>\n",
              "      <th>tempos</th>\n",
              "      <td>104.983</td>\n",
              "    </tr>\n",
              "    <tr>\n",
              "      <th>durations_ms</th>\n",
              "      <td>138411</td>\n",
              "    </tr>\n",
              "    <tr>\n",
              "      <th>time_signatures</th>\n",
              "      <td>4</td>\n",
              "    </tr>\n",
              "    <tr>\n",
              "      <th>playlist_name</th>\n",
              "      <td>Hot Hits Australia</td>\n",
              "    </tr>\n",
              "    <tr>\n",
              "      <th>song</th>\n",
              "      <td>Lovin On Me - Jack Harlow</td>\n",
              "    </tr>\n",
              "  </tbody>\n",
              "</table>\n",
              "</div><br><label><b>dtype:</b> object</label>"
            ]
          },
          "metadata": {},
          "execution_count": 28
        }
      ],
      "source": [
        "df_need.iloc[0]"
      ]
    },
    {
      "cell_type": "markdown",
      "metadata": {
        "id": "8zzHgnTsJNPg"
      },
      "source": [
        "## Cosine Similarity"
      ]
    },
    {
      "cell_type": "code",
      "execution_count": 29,
      "metadata": {
        "id": "h2QJd-QXJPpA"
      },
      "outputs": [],
      "source": [
        "from sklearn.metrics.pairwise import cosine_similarity\n",
        "\n",
        "def recommend_songs_Cosine_Similarity(song_index=0):\n",
        "  result = []\n",
        "  similarity_matrix = cosine_similarity(X_transformed)\n",
        "\n",
        "  similarities = similarity_matrix[song_index]\n",
        "\n",
        "  similar_song_indices = similarities.argsort()[::-1][1:3]\n",
        "\n",
        "  for idx in similar_song_indices:\n",
        "      result.append(idx)\n",
        "  return result"
      ]
    },
    {
      "cell_type": "markdown",
      "metadata": {
        "id": "eqPamecwcEzv"
      },
      "source": [
        "## Cosine Similarity + KNN"
      ]
    },
    {
      "cell_type": "code",
      "execution_count": 30,
      "metadata": {
        "id": "QJ_xsFoTcEBx"
      },
      "outputs": [],
      "source": [
        "def recommend_songs_KNN_and_Cosine_Similarity(song_index=0):\n",
        "  result = []\n",
        "  similarity_matrix = cosine_similarity(X_transformed)\n",
        "  similarities = similarity_matrix[song_index]\n",
        "  similar_song_indices = similarities.argsort()[::-1][1:3]\n",
        "\n",
        "  distance_matrix = 1 - similarity_matrix\n",
        "  distance_matrix[distance_matrix < 0] = 0\n",
        "\n",
        "  knn = NearestNeighbors(n_neighbors=3, metric='precomputed')\n",
        "  knn.fit(distance_matrix)\n",
        "\n",
        "  distances, indices = knn.kneighbors([distance_matrix[song_index]])\n",
        "\n",
        "  for idx in indices[0][1:]:\n",
        "      result.append(idx)\n",
        "  return result"
      ]
    },
    {
      "cell_type": "markdown",
      "source": [
        "## Hypertuning KNN"
      ],
      "metadata": {
        "id": "lAczjYca6VKe"
      }
    },
    {
      "cell_type": "code",
      "source": [
        "for k in range(1, 11):\n",
        "    knn = NearestNeighbors(n_neighbors=k, metric='euclidean')\n",
        "    knn.fit(X_transformed)\n",
        "    distances, indices = knn.kneighbors([X_transformed[0]])\n",
        "    print(f\"Neihbour Count: {k}, Recomendations: {[y.iloc[idx] for idx in indices[0][1:]]}\")"
      ],
      "metadata": {
        "colab": {
          "base_uri": "https://localhost:8080/"
        },
        "id": "NvFtMI_q6WQY",
        "outputId": "c477202e-d4bc-4be1-e708-61bf105191de"
      },
      "execution_count": 31,
      "outputs": [
        {
          "output_type": "stream",
          "name": "stdout",
          "text": [
            "Neihbour Count: 1, Recomendations: []\n",
            "Neihbour Count: 2, Recomendations: [\"IT'S GETTING HOT - NLE Choppa\"]\n",
            "Neihbour Count: 3, Recomendations: [\"IT'S GETTING HOT - NLE Choppa\", 'Lalkara - Diljit Dosanjh']\n",
            "Neihbour Count: 4, Recomendations: [\"IT'S GETTING HOT - NLE Choppa\", 'Lalkara - Diljit Dosanjh', 'You & Me - JENNIE']\n",
            "Neihbour Count: 5, Recomendations: [\"IT'S GETTING HOT - NLE Choppa\", 'Lalkara - Diljit Dosanjh', 'You & Me - JENNIE', 'Numb - Marshmello']\n",
            "Neihbour Count: 6, Recomendations: [\"IT'S GETTING HOT - NLE Choppa\", 'Lalkara - Diljit Dosanjh', 'You & Me - JENNIE', 'Numb - Marshmello', 'AMARGURA - KAROL G']\n",
            "Neihbour Count: 7, Recomendations: [\"IT'S GETTING HOT - NLE Choppa\", 'Lalkara - Diljit Dosanjh', 'You & Me - JENNIE', 'Numb - Marshmello', 'AMARGURA - KAROL G', 'ANDO - Jere Klein']\n",
            "Neihbour Count: 8, Recomendations: [\"IT'S GETTING HOT - NLE Choppa\", 'Lalkara - Diljit Dosanjh', 'You & Me - JENNIE', 'Numb - Marshmello', 'AMARGURA - KAROL G', 'ANDO - Jere Klein', 'Some - Steve Lacy']\n",
            "Neihbour Count: 9, Recomendations: [\"IT'S GETTING HOT - NLE Choppa\", 'Lalkara - Diljit Dosanjh', 'You & Me - JENNIE', 'Numb - Marshmello', 'AMARGURA - KAROL G', 'ANDO - Jere Klein', 'Some - Steve Lacy', 'Bones - Imagine Dragons']\n",
            "Neihbour Count: 10, Recomendations: [\"IT'S GETTING HOT - NLE Choppa\", 'Lalkara - Diljit Dosanjh', 'You & Me - JENNIE', 'Numb - Marshmello', 'AMARGURA - KAROL G', 'ANDO - Jere Klein', 'Some - Steve Lacy', 'Bones - Imagine Dragons', 'Bones - Imagine Dragons']\n"
          ]
        }
      ]
    },
    {
      "cell_type": "markdown",
      "source": [
        "### Chosing n_neighbors = 3, because I want two recommendations"
      ],
      "metadata": {
        "id": "Kjt7Fq526k-D"
      }
    },
    {
      "cell_type": "code",
      "source": [
        "print(\"Rekomendowane piosenki:\")\n",
        "result = recommend_songs_KNN()\n",
        "print(y.iloc[result[0]])\n",
        "print(y.iloc[result[1]])"
      ],
      "metadata": {
        "colab": {
          "base_uri": "https://localhost:8080/"
        },
        "id": "nxI_iDfn2DEA",
        "outputId": "218d78a8-5956-47d9-aa65-129474b9618e"
      },
      "execution_count": 32,
      "outputs": [
        {
          "output_type": "stream",
          "name": "stdout",
          "text": [
            "Rekomendowane piosenki:\n",
            "IT'S GETTING HOT - NLE Choppa\n",
            "Lalkara - Diljit Dosanjh\n"
          ]
        }
      ]
    },
    {
      "cell_type": "code",
      "source": [
        "print(\"Rekomendowane piosenki:\")\n",
        "result = recommend_songs_Cosine_Similarity()\n",
        "print(y.iloc[result[0]])\n",
        "print(y.iloc[result[1]])"
      ],
      "metadata": {
        "colab": {
          "base_uri": "https://localhost:8080/"
        },
        "id": "COgqWG6M2GN6",
        "outputId": "9b3a1fc7-6d7a-4c29-8a6e-61d0a915bebe"
      },
      "execution_count": 33,
      "outputs": [
        {
          "output_type": "stream",
          "name": "stdout",
          "text": [
            "Rekomendowane piosenki:\n",
            "You & Me - JENNIE\n",
            "Lalkara - Diljit Dosanjh\n"
          ]
        }
      ]
    },
    {
      "cell_type": "code",
      "source": [
        "print(\"Rekomendowane piosenki:\")\n",
        "result = recommend_songs_KNN_and_Cosine_Similarity()\n",
        "print(y.iloc[result[0]])\n",
        "print(y.iloc[result[1]])"
      ],
      "metadata": {
        "colab": {
          "base_uri": "https://localhost:8080/"
        },
        "id": "JQL0IwUw2JDs",
        "outputId": "67b1109d-a610-43dd-ef4d-8d0648986b45"
      },
      "execution_count": 34,
      "outputs": [
        {
          "output_type": "stream",
          "name": "stdout",
          "text": [
            "Rekomendowane piosenki:\n",
            "You & Me - JENNIE\n",
            "Lalkara - Diljit Dosanjh\n"
          ]
        }
      ]
    },
    {
      "cell_type": "markdown",
      "source": [
        "## Recommendation System Metrics"
      ],
      "metadata": {
        "id": "UgVc788U3cZu"
      }
    },
    {
      "cell_type": "code",
      "source": [
        "def cosine_similarity_recomendation(df, result, song_index):\n",
        "  similarities  = []\n",
        "  for i in result:\n",
        "    row1 = df.iloc[song_index].values\n",
        "    row2 = df.iloc[i].values\n",
        "    similarity = cosine_similarity([row1], [row2])[0][0]\n",
        "    similarities.append(similarity)\n",
        "  return similarities"
      ],
      "metadata": {
        "id": "Kn55YYekAfoI"
      },
      "execution_count": 35,
      "outputs": []
    },
    {
      "cell_type": "code",
      "source": [
        "X_transformed_df = pd.DataFrame(X_transformed)\n",
        "\n",
        "print(\"Podobieństwo kosinusowe KNN\")\n",
        "result1 = recommend_songs_KNN()\n",
        "cos1 = cosine_similarity_recomendation(X_transformed_df, result1, 0)\n",
        "print(f\"{cos1}\\n\")\n",
        "\n",
        "print(\"Podobieństwo kosinusowe Cosine Similarity\")\n",
        "result2 = recommend_songs_Cosine_Similarity()\n",
        "cos2 = cosine_similarity_recomendation(X_transformed_df, result2, 0)\n",
        "print(f\"{cos2}\\n\")\n",
        "\n",
        "print(\"Podobieństwo kosinusowe KNN_and_Cosine_Similarity\")\n",
        "result3 = recommend_songs_KNN_and_Cosine_Similarity()\n",
        "cos3 = cosine_similarity_recomendation(X_transformed_df, result3, 0)\n",
        "print(f\"{cos3}\\n\")"
      ],
      "metadata": {
        "colab": {
          "base_uri": "https://localhost:8080/"
        },
        "id": "UnAPwbh89gxZ",
        "outputId": "aff6804a-3b85-4638-ec29-3cae9f5ed3d8"
      },
      "execution_count": 36,
      "outputs": [
        {
          "output_type": "stream",
          "name": "stdout",
          "text": [
            "Podobieństwo kosinusowe KNN\n",
            "[0.951299068728101, 0.9574949129110895]\n",
            "\n",
            "Podobieństwo kosinusowe Cosine Similarity\n",
            "[0.9680017413215174, 0.9574949129110895]\n",
            "\n",
            "Podobieństwo kosinusowe KNN_and_Cosine_Similarity\n",
            "[0.9680017413215174, 0.9574949129110895]\n",
            "\n"
          ]
        }
      ]
    },
    {
      "cell_type": "code",
      "source": [
        "print(\"Podobieństwo kosinusowe KNN\")\n",
        "result1 = recommend_songs_KNN()\n",
        "cos1 = cosine_similarity_recomendation(X_transformed_df, result1, 3)\n",
        "print(f\"{cos1}\\n\")\n",
        "\n",
        "print(\"Podobieństwo kosinusowe Cosine Similarity\")\n",
        "result2 = recommend_songs_Cosine_Similarity()\n",
        "cos2 = cosine_similarity_recomendation(X_transformed_df, result2, 3)\n",
        "print(f\"{cos2}\\n\")\n",
        "\n",
        "print(\"Podobieństwo kosinusowe KNN_and_Cosine_Similarity\")\n",
        "result3 = recommend_songs_KNN_and_Cosine_Similarity()\n",
        "cos3 = cosine_similarity_recomendation(X_transformed_df, result3, 3)\n",
        "print(f\"{cos3}\\n\")"
      ],
      "metadata": {
        "colab": {
          "base_uri": "https://localhost:8080/"
        },
        "id": "We65MxS2_Wyw",
        "outputId": "753fbeaf-c464-40f7-d86c-297555558a7a"
      },
      "execution_count": 37,
      "outputs": [
        {
          "output_type": "stream",
          "name": "stdout",
          "text": [
            "Podobieństwo kosinusowe KNN\n",
            "[0.8281477536924287, 0.7160812075534444]\n",
            "\n",
            "Podobieństwo kosinusowe Cosine Similarity\n",
            "[0.8782489111383804, 0.7160812075534444]\n",
            "\n",
            "Podobieństwo kosinusowe KNN_and_Cosine_Similarity\n",
            "[0.8782489111383804, 0.7160812075534444]\n",
            "\n"
          ]
        }
      ]
    },
    {
      "cell_type": "code",
      "source": [
        "def choosing_way_to_recommending(n):\n",
        "    knn_score, cosine_score, combined_score = 0, 0, 0\n",
        "\n",
        "    for i in range(n):\n",
        "        result1 = recommend_songs_KNN(i)\n",
        "        cos1 = cosine_similarity_recomendation(X_transformed_df, result1, i)\n",
        "\n",
        "        result2 = recommend_songs_Cosine_Similarity(i)\n",
        "        cos2 = cosine_similarity_recomendation(X_transformed_df, result2, i)\n",
        "\n",
        "        result3 = recommend_songs_KNN_and_Cosine_Similarity(i)\n",
        "        cos3 = cosine_similarity_recomendation(X_transformed_df, result3, i)\n",
        "\n",
        "        score1 = sum(cos1)\n",
        "        score2 = sum(cos2)\n",
        "        score3 = sum(cos3)\n",
        "\n",
        "        if score1 >= score2 and score1 >= score3:\n",
        "            knn_score += 1\n",
        "        elif score2 >= score1 and score2 >= score3:\n",
        "            cosine_score += 1\n",
        "        else:\n",
        "            combined_score += 1\n",
        "\n",
        "    if knn_score > cosine_score and knn_score > combined_score:\n",
        "        return \"recommend_songs_KNN\"\n",
        "    elif cosine_score > knn_score and cosine_score > combined_score:\n",
        "        return \"recommend_songs_Cosine_Similarity\"\n",
        "    else:\n",
        "        return \"recommend_songs_KNN_and_Cosine_Similarity\""
      ],
      "metadata": {
        "id": "LdAAtbBC_1Sg"
      },
      "execution_count": 38,
      "outputs": []
    },
    {
      "cell_type": "code",
      "source": [
        "choosing_way_to_recommending(10)"
      ],
      "metadata": {
        "colab": {
          "base_uri": "https://localhost:8080/",
          "height": 35
        },
        "id": "ZNf-vuFXAC33",
        "outputId": "ad70ad33-5490-454e-904b-43959392fd8f"
      },
      "execution_count": 39,
      "outputs": [
        {
          "output_type": "execute_result",
          "data": {
            "text/plain": [
              "'recommend_songs_KNN'"
            ],
            "application/vnd.google.colaboratory.intrinsic+json": {
              "type": "string"
            }
          },
          "metadata": {},
          "execution_count": 39
        }
      ]
    },
    {
      "cell_type": "code",
      "source": [
        "choosing_way_to_recommending(100)"
      ],
      "metadata": {
        "colab": {
          "base_uri": "https://localhost:8080/",
          "height": 35
        },
        "id": "mLdeYCXIGp7Z",
        "outputId": "e573c920-d881-4092-c74a-6a10029c1f8c"
      },
      "execution_count": 40,
      "outputs": [
        {
          "output_type": "execute_result",
          "data": {
            "text/plain": [
              "'recommend_songs_KNN'"
            ],
            "application/vnd.google.colaboratory.intrinsic+json": {
              "type": "string"
            }
          },
          "metadata": {},
          "execution_count": 40
        }
      ]
    },
    {
      "cell_type": "code",
      "source": [
        "choosing_way_to_recommending(1000)"
      ],
      "metadata": {
        "colab": {
          "base_uri": "https://localhost:8080/",
          "height": 35
        },
        "id": "hPDkyDWKI4pE",
        "outputId": "4391cc9c-b26c-4ae5-ae20-33ad6bfdceab"
      },
      "execution_count": 41,
      "outputs": [
        {
          "output_type": "execute_result",
          "data": {
            "text/plain": [
              "'recommend_songs_KNN'"
            ],
            "application/vnd.google.colaboratory.intrinsic+json": {
              "type": "string"
            }
          },
          "metadata": {},
          "execution_count": 41
        }
      ]
    },
    {
      "cell_type": "markdown",
      "source": [
        "# The most effective approach for making recommendations in my project is through the use of KNN."
      ],
      "metadata": {
        "id": "2KiaxERrSGtd"
      }
    },
    {
      "cell_type": "code",
      "source": [],
      "metadata": {
        "id": "i-Ams8U5SRd8"
      },
      "execution_count": null,
      "outputs": []
    }
  ],
  "metadata": {
    "colab": {
      "provenance": [],
      "gpuType": "T4"
    },
    "kernelspec": {
      "display_name": "Python 3",
      "name": "python3"
    },
    "language_info": {
      "name": "python"
    },
    "accelerator": "GPU"
  },
  "nbformat": 4,
  "nbformat_minor": 0
}